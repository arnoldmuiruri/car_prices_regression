{
 "cells": [
  {
   "cell_type": "markdown",
   "source": [
    "# 1. Exploratory Data Analysis\n"
   ],
   "metadata": {
    "collapsed": false
   },
   "id": "5383447b77c8db35"
  },
  {
   "cell_type": "code",
   "outputs": [],
   "source": [
    "import pandas as pd\n",
    "import numpy as np"
   ],
   "metadata": {
    "collapsed": false,
    "ExecuteTime": {
     "end_time": "2024-09-16T20:57:19.823649300Z",
     "start_time": "2024-09-16T20:57:15.608816600Z"
    }
   },
   "id": "ff6cbc3fdc74f772",
   "execution_count": 1
  },
  {
   "cell_type": "code",
   "outputs": [],
   "source": [
    "path = 'C:\\\\Users\\\\Arnold\\\\OneDrive\\\\Desktop\\\\Knowledge Discovery and Data Mining\\\\Car Regression\\\\car_prices_regression\\\\data\\\\raw'\n",
    "\n",
    "test_data = pd.read_csv(path + \"\\\\test.csv\")\n",
    "train_data = pd.read_csv(path +\"\\\\train.csv\")"
   ],
   "metadata": {
    "collapsed": false,
    "ExecuteTime": {
     "end_time": "2024-09-16T20:57:20.870249800Z",
     "start_time": "2024-09-16T20:57:19.825645900Z"
    }
   },
   "id": "3327ff39291c0c44",
   "execution_count": 2
  },
  {
   "cell_type": "code",
   "outputs": [
    {
     "data": {
      "text/plain": "(188533, 13)"
     },
     "execution_count": 3,
     "metadata": {},
     "output_type": "execute_result"
    }
   ],
   "source": [
    "train_data.shape"
   ],
   "metadata": {
    "collapsed": false,
    "ExecuteTime": {
     "end_time": "2024-09-16T20:57:20.899326900Z",
     "start_time": "2024-09-16T20:57:20.871510500Z"
    }
   },
   "id": "e36b3f7847534eaf",
   "execution_count": 3
  },
  {
   "cell_type": "code",
   "outputs": [
    {
     "data": {
      "text/plain": "(125690, 12)"
     },
     "execution_count": 4,
     "metadata": {},
     "output_type": "execute_result"
    }
   ],
   "source": [
    "test_data.shape"
   ],
   "metadata": {
    "collapsed": false,
    "ExecuteTime": {
     "end_time": "2024-09-16T20:57:21.064151900Z",
     "start_time": "2024-09-16T20:57:20.894336800Z"
    }
   },
   "id": "4e72aa117c08a6c7",
   "execution_count": 4
  },
  {
   "cell_type": "code",
   "outputs": [
    {
     "data": {
      "text/plain": "   id          brand              model  model_year  milage      fuel_type  \\\n0   0           MINI      Cooper S Base        2007  213000       Gasoline   \n1   1        Lincoln              LS V8        2002  143250       Gasoline   \n2   2      Chevrolet  Silverado 2500 LT        2002  136731  E85 Flex Fuel   \n3   3        Genesis   G90 5.0 Ultimate        2017   19500       Gasoline   \n4   4  Mercedes-Benz        Metris Base        2021    7388       Gasoline   \n\n                                              engine  \\\n0       172.0HP 1.6L 4 Cylinder Engine Gasoline Fuel   \n1       252.0HP 3.9L 8 Cylinder Engine Gasoline Fuel   \n2  320.0HP 5.3L 8 Cylinder Engine Flex Fuel Capab...   \n3       420.0HP 5.0L 8 Cylinder Engine Gasoline Fuel   \n4       208.0HP 2.0L 4 Cylinder Engine Gasoline Fuel   \n\n                     transmission ext_col int_col  \\\n0                             A/T  Yellow    Gray   \n1                             A/T  Silver   Beige   \n2                             A/T    Blue    Gray   \n3  Transmission w/Dual Shift Mode   Black   Black   \n4                     7-Speed A/T   Black   Beige   \n\n                                 accident clean_title  price  \n0                           None reported         Yes   4200  \n1  At least 1 accident or damage reported         Yes   4999  \n2                           None reported         Yes  13900  \n3                           None reported         Yes  45000  \n4                           None reported         Yes  97500  ",
      "text/html": "<div>\n<style scoped>\n    .dataframe tbody tr th:only-of-type {\n        vertical-align: middle;\n    }\n\n    .dataframe tbody tr th {\n        vertical-align: top;\n    }\n\n    .dataframe thead th {\n        text-align: right;\n    }\n</style>\n<table border=\"1\" class=\"dataframe\">\n  <thead>\n    <tr style=\"text-align: right;\">\n      <th></th>\n      <th>id</th>\n      <th>brand</th>\n      <th>model</th>\n      <th>model_year</th>\n      <th>milage</th>\n      <th>fuel_type</th>\n      <th>engine</th>\n      <th>transmission</th>\n      <th>ext_col</th>\n      <th>int_col</th>\n      <th>accident</th>\n      <th>clean_title</th>\n      <th>price</th>\n    </tr>\n  </thead>\n  <tbody>\n    <tr>\n      <th>0</th>\n      <td>0</td>\n      <td>MINI</td>\n      <td>Cooper S Base</td>\n      <td>2007</td>\n      <td>213000</td>\n      <td>Gasoline</td>\n      <td>172.0HP 1.6L 4 Cylinder Engine Gasoline Fuel</td>\n      <td>A/T</td>\n      <td>Yellow</td>\n      <td>Gray</td>\n      <td>None reported</td>\n      <td>Yes</td>\n      <td>4200</td>\n    </tr>\n    <tr>\n      <th>1</th>\n      <td>1</td>\n      <td>Lincoln</td>\n      <td>LS V8</td>\n      <td>2002</td>\n      <td>143250</td>\n      <td>Gasoline</td>\n      <td>252.0HP 3.9L 8 Cylinder Engine Gasoline Fuel</td>\n      <td>A/T</td>\n      <td>Silver</td>\n      <td>Beige</td>\n      <td>At least 1 accident or damage reported</td>\n      <td>Yes</td>\n      <td>4999</td>\n    </tr>\n    <tr>\n      <th>2</th>\n      <td>2</td>\n      <td>Chevrolet</td>\n      <td>Silverado 2500 LT</td>\n      <td>2002</td>\n      <td>136731</td>\n      <td>E85 Flex Fuel</td>\n      <td>320.0HP 5.3L 8 Cylinder Engine Flex Fuel Capab...</td>\n      <td>A/T</td>\n      <td>Blue</td>\n      <td>Gray</td>\n      <td>None reported</td>\n      <td>Yes</td>\n      <td>13900</td>\n    </tr>\n    <tr>\n      <th>3</th>\n      <td>3</td>\n      <td>Genesis</td>\n      <td>G90 5.0 Ultimate</td>\n      <td>2017</td>\n      <td>19500</td>\n      <td>Gasoline</td>\n      <td>420.0HP 5.0L 8 Cylinder Engine Gasoline Fuel</td>\n      <td>Transmission w/Dual Shift Mode</td>\n      <td>Black</td>\n      <td>Black</td>\n      <td>None reported</td>\n      <td>Yes</td>\n      <td>45000</td>\n    </tr>\n    <tr>\n      <th>4</th>\n      <td>4</td>\n      <td>Mercedes-Benz</td>\n      <td>Metris Base</td>\n      <td>2021</td>\n      <td>7388</td>\n      <td>Gasoline</td>\n      <td>208.0HP 2.0L 4 Cylinder Engine Gasoline Fuel</td>\n      <td>7-Speed A/T</td>\n      <td>Black</td>\n      <td>Beige</td>\n      <td>None reported</td>\n      <td>Yes</td>\n      <td>97500</td>\n    </tr>\n  </tbody>\n</table>\n</div>"
     },
     "execution_count": 5,
     "metadata": {},
     "output_type": "execute_result"
    }
   ],
   "source": [
    "train_data.head()"
   ],
   "metadata": {
    "collapsed": false,
    "ExecuteTime": {
     "end_time": "2024-09-16T20:57:21.159567Z",
     "start_time": "2024-09-16T20:57:21.075169400Z"
    }
   },
   "id": "1670c4d0c08588b6",
   "execution_count": 5
  },
  {
   "cell_type": "code",
   "outputs": [
    {
     "data": {
      "text/plain": "            id          brand                     model  model_year  milage  \\\n188528  188528       Cadillac     Escalade ESV Platinum        2017   49000   \n188529  188529  Mercedes-Benz  AMG C 43 AMG C 43 4MATIC        2018   28600   \n188530  188530  Mercedes-Benz    AMG GLC 63 Base 4MATIC        2021   13650   \n188531  188531           Audi          S5 3.0T Prestige        2022   13895   \n188532  188532        Porsche                Macan Base        2016   59500   \n\n       fuel_type                                         engine  \\\n188528  Gasoline   420.0HP 6.2L 8 Cylinder Engine Gasoline Fuel   \n188529  Gasoline  385.0HP 3.0L V6 Cylinder Engine Gasoline Fuel   \n188530  Gasoline   469.0HP 4.0L 8 Cylinder Engine Gasoline Fuel   \n188531  Gasoline                                           3.0L   \n188532  Gasoline   252.0HP 2.0L 4 Cylinder Engine Gasoline Fuel   \n\n                          transmission                    ext_col int_col  \\\n188528  Transmission w/Dual Shift Mode                      White   Beige   \n188529                     8-Speed A/T                      White   Black   \n188530                     7-Speed A/T                      White   Black   \n188531               1-Speed Automatic  Daytona Gray Pearl Effect   Black   \n188532  Transmission w/Dual Shift Mode                      White   Black   \n\n                                      accident clean_title  price  \n188528                           None reported         Yes  27500  \n188529  At least 1 accident or damage reported         Yes  30000  \n188530                           None reported         Yes  86900  \n188531                           None reported         NaN  84900  \n188532                           None reported         Yes  28995  ",
      "text/html": "<div>\n<style scoped>\n    .dataframe tbody tr th:only-of-type {\n        vertical-align: middle;\n    }\n\n    .dataframe tbody tr th {\n        vertical-align: top;\n    }\n\n    .dataframe thead th {\n        text-align: right;\n    }\n</style>\n<table border=\"1\" class=\"dataframe\">\n  <thead>\n    <tr style=\"text-align: right;\">\n      <th></th>\n      <th>id</th>\n      <th>brand</th>\n      <th>model</th>\n      <th>model_year</th>\n      <th>milage</th>\n      <th>fuel_type</th>\n      <th>engine</th>\n      <th>transmission</th>\n      <th>ext_col</th>\n      <th>int_col</th>\n      <th>accident</th>\n      <th>clean_title</th>\n      <th>price</th>\n    </tr>\n  </thead>\n  <tbody>\n    <tr>\n      <th>188528</th>\n      <td>188528</td>\n      <td>Cadillac</td>\n      <td>Escalade ESV Platinum</td>\n      <td>2017</td>\n      <td>49000</td>\n      <td>Gasoline</td>\n      <td>420.0HP 6.2L 8 Cylinder Engine Gasoline Fuel</td>\n      <td>Transmission w/Dual Shift Mode</td>\n      <td>White</td>\n      <td>Beige</td>\n      <td>None reported</td>\n      <td>Yes</td>\n      <td>27500</td>\n    </tr>\n    <tr>\n      <th>188529</th>\n      <td>188529</td>\n      <td>Mercedes-Benz</td>\n      <td>AMG C 43 AMG C 43 4MATIC</td>\n      <td>2018</td>\n      <td>28600</td>\n      <td>Gasoline</td>\n      <td>385.0HP 3.0L V6 Cylinder Engine Gasoline Fuel</td>\n      <td>8-Speed A/T</td>\n      <td>White</td>\n      <td>Black</td>\n      <td>At least 1 accident or damage reported</td>\n      <td>Yes</td>\n      <td>30000</td>\n    </tr>\n    <tr>\n      <th>188530</th>\n      <td>188530</td>\n      <td>Mercedes-Benz</td>\n      <td>AMG GLC 63 Base 4MATIC</td>\n      <td>2021</td>\n      <td>13650</td>\n      <td>Gasoline</td>\n      <td>469.0HP 4.0L 8 Cylinder Engine Gasoline Fuel</td>\n      <td>7-Speed A/T</td>\n      <td>White</td>\n      <td>Black</td>\n      <td>None reported</td>\n      <td>Yes</td>\n      <td>86900</td>\n    </tr>\n    <tr>\n      <th>188531</th>\n      <td>188531</td>\n      <td>Audi</td>\n      <td>S5 3.0T Prestige</td>\n      <td>2022</td>\n      <td>13895</td>\n      <td>Gasoline</td>\n      <td>3.0L</td>\n      <td>1-Speed Automatic</td>\n      <td>Daytona Gray Pearl Effect</td>\n      <td>Black</td>\n      <td>None reported</td>\n      <td>NaN</td>\n      <td>84900</td>\n    </tr>\n    <tr>\n      <th>188532</th>\n      <td>188532</td>\n      <td>Porsche</td>\n      <td>Macan Base</td>\n      <td>2016</td>\n      <td>59500</td>\n      <td>Gasoline</td>\n      <td>252.0HP 2.0L 4 Cylinder Engine Gasoline Fuel</td>\n      <td>Transmission w/Dual Shift Mode</td>\n      <td>White</td>\n      <td>Black</td>\n      <td>None reported</td>\n      <td>Yes</td>\n      <td>28995</td>\n    </tr>\n  </tbody>\n</table>\n</div>"
     },
     "execution_count": 6,
     "metadata": {},
     "output_type": "execute_result"
    }
   ],
   "source": [
    "train_data.tail()"
   ],
   "metadata": {
    "collapsed": false,
    "ExecuteTime": {
     "end_time": "2024-09-16T20:57:21.231899900Z",
     "start_time": "2024-09-16T20:57:21.148755500Z"
    }
   },
   "id": "d44e885836ab648f",
   "execution_count": 6
  },
  {
   "cell_type": "code",
   "outputs": [
    {
     "data": {
      "text/plain": "       id brand                 model  model_year  milage fuel_type  \\\n0  188533  Land        Rover LR2 Base        2015   98000  Gasoline   \n1  188534  Land     Rover Defender SE        2020    9142    Hybrid   \n2  188535  Ford    Expedition Limited        2022   28121  Gasoline   \n3  188536  Audi         A6 2.0T Sport        2016   61258  Gasoline   \n4  188537  Audi  A6 2.0T Premium Plus        2018   59000  Gasoline   \n\n                                              engine        transmission  \\\n0       240.0HP 2.0L 4 Cylinder Engine Gasoline Fuel         6-Speed A/T   \n1  395.0HP 3.0L Straight 6 Cylinder Engine Gasoli...         8-Speed A/T   \n2                    3.5L V6 24V PDI DOHC Twin Turbo  10-Speed Automatic   \n3                                     2.0 Liter TFSI           Automatic   \n4       252.0HP 2.0L 4 Cylinder Engine Gasoline Fuel                 A/T   \n\n           ext_col int_col       accident clean_title  \n0            White   Beige  None reported         Yes  \n1           Silver   Black  None reported         Yes  \n2            White   Ebony  None reported         NaN  \n3  Silician Yellow   Black  None reported         NaN  \n4             Gray   Black  None reported         Yes  ",
      "text/html": "<div>\n<style scoped>\n    .dataframe tbody tr th:only-of-type {\n        vertical-align: middle;\n    }\n\n    .dataframe tbody tr th {\n        vertical-align: top;\n    }\n\n    .dataframe thead th {\n        text-align: right;\n    }\n</style>\n<table border=\"1\" class=\"dataframe\">\n  <thead>\n    <tr style=\"text-align: right;\">\n      <th></th>\n      <th>id</th>\n      <th>brand</th>\n      <th>model</th>\n      <th>model_year</th>\n      <th>milage</th>\n      <th>fuel_type</th>\n      <th>engine</th>\n      <th>transmission</th>\n      <th>ext_col</th>\n      <th>int_col</th>\n      <th>accident</th>\n      <th>clean_title</th>\n    </tr>\n  </thead>\n  <tbody>\n    <tr>\n      <th>0</th>\n      <td>188533</td>\n      <td>Land</td>\n      <td>Rover LR2 Base</td>\n      <td>2015</td>\n      <td>98000</td>\n      <td>Gasoline</td>\n      <td>240.0HP 2.0L 4 Cylinder Engine Gasoline Fuel</td>\n      <td>6-Speed A/T</td>\n      <td>White</td>\n      <td>Beige</td>\n      <td>None reported</td>\n      <td>Yes</td>\n    </tr>\n    <tr>\n      <th>1</th>\n      <td>188534</td>\n      <td>Land</td>\n      <td>Rover Defender SE</td>\n      <td>2020</td>\n      <td>9142</td>\n      <td>Hybrid</td>\n      <td>395.0HP 3.0L Straight 6 Cylinder Engine Gasoli...</td>\n      <td>8-Speed A/T</td>\n      <td>Silver</td>\n      <td>Black</td>\n      <td>None reported</td>\n      <td>Yes</td>\n    </tr>\n    <tr>\n      <th>2</th>\n      <td>188535</td>\n      <td>Ford</td>\n      <td>Expedition Limited</td>\n      <td>2022</td>\n      <td>28121</td>\n      <td>Gasoline</td>\n      <td>3.5L V6 24V PDI DOHC Twin Turbo</td>\n      <td>10-Speed Automatic</td>\n      <td>White</td>\n      <td>Ebony</td>\n      <td>None reported</td>\n      <td>NaN</td>\n    </tr>\n    <tr>\n      <th>3</th>\n      <td>188536</td>\n      <td>Audi</td>\n      <td>A6 2.0T Sport</td>\n      <td>2016</td>\n      <td>61258</td>\n      <td>Gasoline</td>\n      <td>2.0 Liter TFSI</td>\n      <td>Automatic</td>\n      <td>Silician Yellow</td>\n      <td>Black</td>\n      <td>None reported</td>\n      <td>NaN</td>\n    </tr>\n    <tr>\n      <th>4</th>\n      <td>188537</td>\n      <td>Audi</td>\n      <td>A6 2.0T Premium Plus</td>\n      <td>2018</td>\n      <td>59000</td>\n      <td>Gasoline</td>\n      <td>252.0HP 2.0L 4 Cylinder Engine Gasoline Fuel</td>\n      <td>A/T</td>\n      <td>Gray</td>\n      <td>Black</td>\n      <td>None reported</td>\n      <td>Yes</td>\n    </tr>\n  </tbody>\n</table>\n</div>"
     },
     "execution_count": 7,
     "metadata": {},
     "output_type": "execute_result"
    }
   ],
   "source": [
    "test_data.head()"
   ],
   "metadata": {
    "collapsed": false,
    "ExecuteTime": {
     "end_time": "2024-09-16T20:57:21.361974200Z",
     "start_time": "2024-09-16T20:57:21.189017600Z"
    }
   },
   "id": "bdbb909f498f8d62",
   "execution_count": 7
  },
  {
   "cell_type": "code",
   "outputs": [
    {
     "data": {
      "text/plain": "            id          brand                   model  model_year  milage  \\\n125685  314218  Mercedes-Benz  GL-Class GL 450 4MATIC        2014   83315   \n125686  314219           Audi          Q7 55 Prestige        2019   29336   \n125687  314220           Audi    A6 3.0T Premium Plus        2012   77634   \n125688  314221           Audi         Q7 3.0T Premium        2012  112000   \n125689  314222      Chevrolet                Tahoe LT        2018   66840   \n\n       fuel_type                                         engine transmission  \\\n125685  Gasoline  362.0HP 3.0L V6 Cylinder Engine Gasoline Fuel  7-Speed A/T   \n125686  Gasoline                                3.0 Liter Turbo    Automatic   \n125687  Gasoline  333.0HP 3.0L V6 Cylinder Engine Gasoline Fuel          A/T   \n125688  Gasoline  333.0HP 3.0L V6 Cylinder Engine Gasoline Fuel          A/T   \n125689  Gasoline   355.0HP 5.3L 8 Cylinder Engine Gasoline Fuel          A/T   \n\n       ext_col int_col       accident clean_title  \n125685   Black   Black  None reported         Yes  \n125686   White   Black  None reported         NaN  \n125687   Black   Black  None reported         Yes  \n125688   Black   Black  None reported         Yes  \n125689  Silver   Black  None reported         Yes  ",
      "text/html": "<div>\n<style scoped>\n    .dataframe tbody tr th:only-of-type {\n        vertical-align: middle;\n    }\n\n    .dataframe tbody tr th {\n        vertical-align: top;\n    }\n\n    .dataframe thead th {\n        text-align: right;\n    }\n</style>\n<table border=\"1\" class=\"dataframe\">\n  <thead>\n    <tr style=\"text-align: right;\">\n      <th></th>\n      <th>id</th>\n      <th>brand</th>\n      <th>model</th>\n      <th>model_year</th>\n      <th>milage</th>\n      <th>fuel_type</th>\n      <th>engine</th>\n      <th>transmission</th>\n      <th>ext_col</th>\n      <th>int_col</th>\n      <th>accident</th>\n      <th>clean_title</th>\n    </tr>\n  </thead>\n  <tbody>\n    <tr>\n      <th>125685</th>\n      <td>314218</td>\n      <td>Mercedes-Benz</td>\n      <td>GL-Class GL 450 4MATIC</td>\n      <td>2014</td>\n      <td>83315</td>\n      <td>Gasoline</td>\n      <td>362.0HP 3.0L V6 Cylinder Engine Gasoline Fuel</td>\n      <td>7-Speed A/T</td>\n      <td>Black</td>\n      <td>Black</td>\n      <td>None reported</td>\n      <td>Yes</td>\n    </tr>\n    <tr>\n      <th>125686</th>\n      <td>314219</td>\n      <td>Audi</td>\n      <td>Q7 55 Prestige</td>\n      <td>2019</td>\n      <td>29336</td>\n      <td>Gasoline</td>\n      <td>3.0 Liter Turbo</td>\n      <td>Automatic</td>\n      <td>White</td>\n      <td>Black</td>\n      <td>None reported</td>\n      <td>NaN</td>\n    </tr>\n    <tr>\n      <th>125687</th>\n      <td>314220</td>\n      <td>Audi</td>\n      <td>A6 3.0T Premium Plus</td>\n      <td>2012</td>\n      <td>77634</td>\n      <td>Gasoline</td>\n      <td>333.0HP 3.0L V6 Cylinder Engine Gasoline Fuel</td>\n      <td>A/T</td>\n      <td>Black</td>\n      <td>Black</td>\n      <td>None reported</td>\n      <td>Yes</td>\n    </tr>\n    <tr>\n      <th>125688</th>\n      <td>314221</td>\n      <td>Audi</td>\n      <td>Q7 3.0T Premium</td>\n      <td>2012</td>\n      <td>112000</td>\n      <td>Gasoline</td>\n      <td>333.0HP 3.0L V6 Cylinder Engine Gasoline Fuel</td>\n      <td>A/T</td>\n      <td>Black</td>\n      <td>Black</td>\n      <td>None reported</td>\n      <td>Yes</td>\n    </tr>\n    <tr>\n      <th>125689</th>\n      <td>314222</td>\n      <td>Chevrolet</td>\n      <td>Tahoe LT</td>\n      <td>2018</td>\n      <td>66840</td>\n      <td>Gasoline</td>\n      <td>355.0HP 5.3L 8 Cylinder Engine Gasoline Fuel</td>\n      <td>A/T</td>\n      <td>Silver</td>\n      <td>Black</td>\n      <td>None reported</td>\n      <td>Yes</td>\n    </tr>\n  </tbody>\n</table>\n</div>"
     },
     "execution_count": 8,
     "metadata": {},
     "output_type": "execute_result"
    }
   ],
   "source": [
    "test_data.tail()"
   ],
   "metadata": {
    "collapsed": false,
    "ExecuteTime": {
     "end_time": "2024-09-16T20:57:21.379079900Z",
     "start_time": "2024-09-16T20:57:21.232898200Z"
    }
   },
   "id": "5160be69087bc070",
   "execution_count": 8
  },
  {
   "cell_type": "code",
   "outputs": [],
   "source": [
    "def info_table(data_frame: pd.DataFrame)->pd.DataFrame:\n",
    "    \n",
    "    table = []\n",
    "    columns = data_frame.columns\n",
    "    \n",
    "    for column in columns:\n",
    "        n_unique = data_frame[column].nunique()\n",
    "        n_null = data_frame[column].isnull().sum()\n",
    "        d_type = data_frame[column].dtype\n",
    "        prop_null = (n_null/len(data_frame[column]))*100\n",
    "        \n",
    "        table.append([column, n_unique, n_null,prop_null,d_type])\n",
    "    \n",
    "    table = pd.DataFrame(table)\n",
    "    table.columns = [\"Column Name\", \"Num Unique\", \"Sum of Nulls\", \"Prop Null\", \"Data Type\"]\n",
    "    \n",
    "    return table"
   ],
   "metadata": {
    "collapsed": false,
    "ExecuteTime": {
     "end_time": "2024-09-16T20:57:21.380197Z",
     "start_time": "2024-09-16T20:57:21.267118400Z"
    }
   },
   "id": "1aea5025a7bb0e50",
   "execution_count": 9
  },
  {
   "cell_type": "code",
   "outputs": [
    {
     "data": {
      "text/plain": "     Column Name  Num Unique  Sum of Nulls  Prop Null Data Type\n0             id      125690             0   0.000000     int64\n1          brand          55             0   0.000000    object\n2          model        1891             0   0.000000    object\n3     model_year          36             0   0.000000     int64\n4         milage        5700             0   0.000000     int64\n5      fuel_type           7          3383   2.691543    object\n6         engine        1117             0   0.000000    object\n7   transmission          52             0   0.000000    object\n8        ext_col         317             0   0.000000    object\n9        int_col         156             0   0.000000    object\n10      accident           2          1632   1.298433    object\n11   clean_title           1         14239  11.328666    object",
      "text/html": "<div>\n<style scoped>\n    .dataframe tbody tr th:only-of-type {\n        vertical-align: middle;\n    }\n\n    .dataframe tbody tr th {\n        vertical-align: top;\n    }\n\n    .dataframe thead th {\n        text-align: right;\n    }\n</style>\n<table border=\"1\" class=\"dataframe\">\n  <thead>\n    <tr style=\"text-align: right;\">\n      <th></th>\n      <th>Column Name</th>\n      <th>Num Unique</th>\n      <th>Sum of Nulls</th>\n      <th>Prop Null</th>\n      <th>Data Type</th>\n    </tr>\n  </thead>\n  <tbody>\n    <tr>\n      <th>0</th>\n      <td>id</td>\n      <td>125690</td>\n      <td>0</td>\n      <td>0.000000</td>\n      <td>int64</td>\n    </tr>\n    <tr>\n      <th>1</th>\n      <td>brand</td>\n      <td>55</td>\n      <td>0</td>\n      <td>0.000000</td>\n      <td>object</td>\n    </tr>\n    <tr>\n      <th>2</th>\n      <td>model</td>\n      <td>1891</td>\n      <td>0</td>\n      <td>0.000000</td>\n      <td>object</td>\n    </tr>\n    <tr>\n      <th>3</th>\n      <td>model_year</td>\n      <td>36</td>\n      <td>0</td>\n      <td>0.000000</td>\n      <td>int64</td>\n    </tr>\n    <tr>\n      <th>4</th>\n      <td>milage</td>\n      <td>5700</td>\n      <td>0</td>\n      <td>0.000000</td>\n      <td>int64</td>\n    </tr>\n    <tr>\n      <th>5</th>\n      <td>fuel_type</td>\n      <td>7</td>\n      <td>3383</td>\n      <td>2.691543</td>\n      <td>object</td>\n    </tr>\n    <tr>\n      <th>6</th>\n      <td>engine</td>\n      <td>1117</td>\n      <td>0</td>\n      <td>0.000000</td>\n      <td>object</td>\n    </tr>\n    <tr>\n      <th>7</th>\n      <td>transmission</td>\n      <td>52</td>\n      <td>0</td>\n      <td>0.000000</td>\n      <td>object</td>\n    </tr>\n    <tr>\n      <th>8</th>\n      <td>ext_col</td>\n      <td>317</td>\n      <td>0</td>\n      <td>0.000000</td>\n      <td>object</td>\n    </tr>\n    <tr>\n      <th>9</th>\n      <td>int_col</td>\n      <td>156</td>\n      <td>0</td>\n      <td>0.000000</td>\n      <td>object</td>\n    </tr>\n    <tr>\n      <th>10</th>\n      <td>accident</td>\n      <td>2</td>\n      <td>1632</td>\n      <td>1.298433</td>\n      <td>object</td>\n    </tr>\n    <tr>\n      <th>11</th>\n      <td>clean_title</td>\n      <td>1</td>\n      <td>14239</td>\n      <td>11.328666</td>\n      <td>object</td>\n    </tr>\n  </tbody>\n</table>\n</div>"
     },
     "execution_count": 10,
     "metadata": {},
     "output_type": "execute_result"
    }
   ],
   "source": [
    "info_table(test_data)"
   ],
   "metadata": {
    "collapsed": false,
    "ExecuteTime": {
     "end_time": "2024-09-16T20:57:21.790521400Z",
     "start_time": "2024-09-16T20:57:21.287071700Z"
    }
   },
   "id": "a9c0a6d0cc992991",
   "execution_count": 10
  },
  {
   "cell_type": "code",
   "outputs": [
    {
     "data": {
      "text/plain": "     Column Name  Num Unique  Sum of Nulls  Prop Null Data Type\n0             id      188533             0   0.000000     int64\n1          brand          57             0   0.000000    object\n2          model        1897             0   0.000000    object\n3     model_year          34             0   0.000000     int64\n4         milage        6651             0   0.000000     int64\n5      fuel_type           7          5083   2.696080    object\n6         engine        1117             0   0.000000    object\n7   transmission          52             0   0.000000    object\n8        ext_col         319             0   0.000000    object\n9        int_col         156             0   0.000000    object\n10      accident           2          2452   1.300568    object\n11   clean_title           1         21419  11.360876    object\n12         price        1569             0   0.000000     int64",
      "text/html": "<div>\n<style scoped>\n    .dataframe tbody tr th:only-of-type {\n        vertical-align: middle;\n    }\n\n    .dataframe tbody tr th {\n        vertical-align: top;\n    }\n\n    .dataframe thead th {\n        text-align: right;\n    }\n</style>\n<table border=\"1\" class=\"dataframe\">\n  <thead>\n    <tr style=\"text-align: right;\">\n      <th></th>\n      <th>Column Name</th>\n      <th>Num Unique</th>\n      <th>Sum of Nulls</th>\n      <th>Prop Null</th>\n      <th>Data Type</th>\n    </tr>\n  </thead>\n  <tbody>\n    <tr>\n      <th>0</th>\n      <td>id</td>\n      <td>188533</td>\n      <td>0</td>\n      <td>0.000000</td>\n      <td>int64</td>\n    </tr>\n    <tr>\n      <th>1</th>\n      <td>brand</td>\n      <td>57</td>\n      <td>0</td>\n      <td>0.000000</td>\n      <td>object</td>\n    </tr>\n    <tr>\n      <th>2</th>\n      <td>model</td>\n      <td>1897</td>\n      <td>0</td>\n      <td>0.000000</td>\n      <td>object</td>\n    </tr>\n    <tr>\n      <th>3</th>\n      <td>model_year</td>\n      <td>34</td>\n      <td>0</td>\n      <td>0.000000</td>\n      <td>int64</td>\n    </tr>\n    <tr>\n      <th>4</th>\n      <td>milage</td>\n      <td>6651</td>\n      <td>0</td>\n      <td>0.000000</td>\n      <td>int64</td>\n    </tr>\n    <tr>\n      <th>5</th>\n      <td>fuel_type</td>\n      <td>7</td>\n      <td>5083</td>\n      <td>2.696080</td>\n      <td>object</td>\n    </tr>\n    <tr>\n      <th>6</th>\n      <td>engine</td>\n      <td>1117</td>\n      <td>0</td>\n      <td>0.000000</td>\n      <td>object</td>\n    </tr>\n    <tr>\n      <th>7</th>\n      <td>transmission</td>\n      <td>52</td>\n      <td>0</td>\n      <td>0.000000</td>\n      <td>object</td>\n    </tr>\n    <tr>\n      <th>8</th>\n      <td>ext_col</td>\n      <td>319</td>\n      <td>0</td>\n      <td>0.000000</td>\n      <td>object</td>\n    </tr>\n    <tr>\n      <th>9</th>\n      <td>int_col</td>\n      <td>156</td>\n      <td>0</td>\n      <td>0.000000</td>\n      <td>object</td>\n    </tr>\n    <tr>\n      <th>10</th>\n      <td>accident</td>\n      <td>2</td>\n      <td>2452</td>\n      <td>1.300568</td>\n      <td>object</td>\n    </tr>\n    <tr>\n      <th>11</th>\n      <td>clean_title</td>\n      <td>1</td>\n      <td>21419</td>\n      <td>11.360876</td>\n      <td>object</td>\n    </tr>\n    <tr>\n      <th>12</th>\n      <td>price</td>\n      <td>1569</td>\n      <td>0</td>\n      <td>0.000000</td>\n      <td>int64</td>\n    </tr>\n  </tbody>\n</table>\n</div>"
     },
     "execution_count": 11,
     "metadata": {},
     "output_type": "execute_result"
    }
   ],
   "source": [
    "info_table(train_data)"
   ],
   "metadata": {
    "collapsed": false,
    "ExecuteTime": {
     "end_time": "2024-09-16T20:57:22.326809300Z",
     "start_time": "2024-09-16T20:57:21.592271300Z"
    }
   },
   "id": "8d37705b717418a2",
   "execution_count": 11
  },
  {
   "cell_type": "code",
   "outputs": [
    {
     "data": {
      "text/plain": "                  id     model_year         milage\ncount  125690.000000  125690.000000  125690.000000\nmean   251377.500000    2015.797526   66042.581510\nstd     36283.722005       5.673797   50223.858435\nmin    188533.000000    1974.000000     100.000000\n25%    219955.250000    2013.000000   24500.000000\n50%    251377.500000    2017.000000   57500.000000\n75%    282799.750000    2020.000000   95798.000000\nmax    314222.000000    2024.000000  405000.000000",
      "text/html": "<div>\n<style scoped>\n    .dataframe tbody tr th:only-of-type {\n        vertical-align: middle;\n    }\n\n    .dataframe tbody tr th {\n        vertical-align: top;\n    }\n\n    .dataframe thead th {\n        text-align: right;\n    }\n</style>\n<table border=\"1\" class=\"dataframe\">\n  <thead>\n    <tr style=\"text-align: right;\">\n      <th></th>\n      <th>id</th>\n      <th>model_year</th>\n      <th>milage</th>\n    </tr>\n  </thead>\n  <tbody>\n    <tr>\n      <th>count</th>\n      <td>125690.000000</td>\n      <td>125690.000000</td>\n      <td>125690.000000</td>\n    </tr>\n    <tr>\n      <th>mean</th>\n      <td>251377.500000</td>\n      <td>2015.797526</td>\n      <td>66042.581510</td>\n    </tr>\n    <tr>\n      <th>std</th>\n      <td>36283.722005</td>\n      <td>5.673797</td>\n      <td>50223.858435</td>\n    </tr>\n    <tr>\n      <th>min</th>\n      <td>188533.000000</td>\n      <td>1974.000000</td>\n      <td>100.000000</td>\n    </tr>\n    <tr>\n      <th>25%</th>\n      <td>219955.250000</td>\n      <td>2013.000000</td>\n      <td>24500.000000</td>\n    </tr>\n    <tr>\n      <th>50%</th>\n      <td>251377.500000</td>\n      <td>2017.000000</td>\n      <td>57500.000000</td>\n    </tr>\n    <tr>\n      <th>75%</th>\n      <td>282799.750000</td>\n      <td>2020.000000</td>\n      <td>95798.000000</td>\n    </tr>\n    <tr>\n      <th>max</th>\n      <td>314222.000000</td>\n      <td>2024.000000</td>\n      <td>405000.000000</td>\n    </tr>\n  </tbody>\n</table>\n</div>"
     },
     "execution_count": 12,
     "metadata": {},
     "output_type": "execute_result"
    }
   ],
   "source": [
    "test_data.describe()"
   ],
   "metadata": {
    "collapsed": false,
    "ExecuteTime": {
     "end_time": "2024-09-16T20:57:22.552193800Z",
     "start_time": "2024-09-16T20:57:22.228402200Z"
    }
   },
   "id": "f925c31dd99f5fdc",
   "execution_count": 12
  },
  {
   "cell_type": "code",
   "outputs": [
    {
     "data": {
      "text/plain": "array(['Land', 'Ford', 'Audi', 'Chevrolet', 'Lexus', 'Mercedes-Benz',\n       'Genesis', 'Mazda', 'Porsche', 'Jaguar', 'Honda', 'BMW', 'Toyota',\n       'Hummer', 'RAM', 'Jeep', 'Cadillac', 'Saturn', 'Kia', 'Lincoln',\n       'Nissan', 'Volkswagen', 'Chrysler', 'Dodge', 'Maserati', 'Subaru',\n       'Hyundai', 'Mitsubishi', 'INFINITI', 'Tesla', 'Lamborghini',\n       'MINI', 'GMC', 'Acura', 'Buick', 'Rivian', 'Pontiac', 'Alfa',\n       'Mercury', 'Volvo', 'Rolls-Royce', 'McLaren', 'Bentley', 'Aston',\n       'FIAT', 'Scion', 'Ferrari', 'Lucid', 'Saab', 'Maybach', 'Karma',\n       'Suzuki', 'Lotus', 'Bugatti', 'Plymouth'], dtype=object)"
     },
     "execution_count": 13,
     "metadata": {},
     "output_type": "execute_result"
    }
   ],
   "source": [
    "test_data.brand.unique()"
   ],
   "metadata": {
    "collapsed": false,
    "ExecuteTime": {
     "end_time": "2024-09-16T20:57:22.629488600Z",
     "start_time": "2024-09-16T20:57:22.474851900Z"
    }
   },
   "id": "bdc28e5f3bda5831",
   "execution_count": 13
  },
  {
   "cell_type": "code",
   "outputs": [
    {
     "name": "stdout",
     "output_type": "stream",
     "text": [
      "['Acura' 'Alfa' 'Aston' 'Audi' 'BMW' 'Bentley' 'Bugatti' 'Buick'\n",
      " 'Cadillac' 'Chevrolet' 'Chrysler' 'Dodge' 'FIAT' 'Ferrari' 'Ford' 'GMC'\n",
      " 'Genesis' 'Honda' 'Hummer' 'Hyundai' 'INFINITI' 'Jaguar' 'Jeep' 'Karma'\n",
      " 'Kia' 'Lamborghini' 'Land' 'Lexus' 'Lincoln' 'Lotus' 'Lucid' 'MINI'\n",
      " 'Maserati' 'Maybach' 'Mazda' 'McLaren' 'Mercedes-Benz' 'Mercury'\n",
      " 'Mitsubishi' 'Nissan' 'Plymouth' 'Polestar' 'Pontiac' 'Porsche' 'RAM'\n",
      " 'Rivian' 'Rolls-Royce' 'Saab' 'Saturn' 'Scion' 'Subaru' 'Suzuki' 'Tesla'\n",
      " 'Toyota' 'Volkswagen' 'Volvo' 'smart']\n"
     ]
    }
   ],
   "source": [
    "print(np.sort(train_data.brand.unique()))"
   ],
   "metadata": {
    "collapsed": false,
    "ExecuteTime": {
     "end_time": "2024-09-16T20:57:22.717308400Z",
     "start_time": "2024-09-16T20:57:22.543110300Z"
    }
   },
   "id": "7bd5665a9e31a9fc",
   "execution_count": 14
  },
  {
   "cell_type": "code",
   "outputs": [
    {
     "name": "stdout",
     "output_type": "stream",
     "text": [
      "['Acura' 'Alfa' 'Aston' 'Audi' 'BMW' 'Bentley' 'Bugatti' 'Buick'\n",
      " 'Cadillac' 'Chevrolet' 'Chrysler' 'Dodge' 'FIAT' 'Ferrari' 'Ford' 'GMC'\n",
      " 'Genesis' 'Honda' 'Hummer' 'Hyundai' 'INFINITI' 'Jaguar' 'Jeep' 'Karma'\n",
      " 'Kia' 'Lamborghini' 'Land' 'Lexus' 'Lincoln' 'Lotus' 'Lucid' 'MINI'\n",
      " 'Maserati' 'Maybach' 'Mazda' 'McLaren' 'Mercedes-Benz' 'Mercury'\n",
      " 'Mitsubishi' 'Nissan' 'Plymouth' 'Pontiac' 'Porsche' 'RAM' 'Rivian'\n",
      " 'Rolls-Royce' 'Saab' 'Saturn' 'Scion' 'Subaru' 'Suzuki' 'Tesla' 'Toyota'\n",
      " 'Volkswagen' 'Volvo']\n"
     ]
    }
   ],
   "source": [
    "print(np.sort(test_data.brand.unique()))\n"
   ],
   "metadata": {
    "collapsed": false,
    "ExecuteTime": {
     "end_time": "2024-09-16T20:57:22.908357800Z",
     "start_time": "2024-09-16T20:57:22.603899Z"
    }
   },
   "id": "6064b995e0ff7912",
   "execution_count": 15
  },
  {
   "cell_type": "code",
   "outputs": [
    {
     "data": {
      "text/plain": "array(['Gasoline', 'E85 Flex Fuel', nan, 'Hybrid', 'Diesel',\n       'Plug-In Hybrid', '–', 'not supported'], dtype=object)"
     },
     "execution_count": 16,
     "metadata": {},
     "output_type": "execute_result"
    }
   ],
   "source": [
    "train_data.fuel_type.unique()"
   ],
   "metadata": {
    "collapsed": false,
    "ExecuteTime": {
     "end_time": "2024-09-16T20:57:22.937236900Z",
     "start_time": "2024-09-16T20:57:22.650353Z"
    }
   },
   "id": "50b10af97f1f2c2f",
   "execution_count": 16
  },
  {
   "cell_type": "code",
   "outputs": [
    {
     "data": {
      "text/plain": "array(['Yes', nan], dtype=object)"
     },
     "execution_count": 17,
     "metadata": {},
     "output_type": "execute_result"
    }
   ],
   "source": [
    "train_data.clean_title.unique()"
   ],
   "metadata": {
    "collapsed": false,
    "ExecuteTime": {
     "end_time": "2024-09-16T20:57:22.979908300Z",
     "start_time": "2024-09-16T20:57:22.701722100Z"
    }
   },
   "id": "de1388ef29109a3b",
   "execution_count": 17
  }
 ],
 "metadata": {
  "kernelspec": {
   "display_name": "Python 3",
   "language": "python",
   "name": "python3"
  },
  "language_info": {
   "codemirror_mode": {
    "name": "ipython",
    "version": 2
   },
   "file_extension": ".py",
   "mimetype": "text/x-python",
   "name": "python",
   "nbconvert_exporter": "python",
   "pygments_lexer": "ipython2",
   "version": "2.7.6"
  }
 },
 "nbformat": 4,
 "nbformat_minor": 5
}
