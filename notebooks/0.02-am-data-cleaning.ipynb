{
 "cells": [
  {
   "cell_type": "markdown",
   "source": [
    "# 2. Data Cleaning"
   ],
   "metadata": {
    "collapsed": false
   },
   "id": "944767a37daf9da6"
  },
  {
   "cell_type": "code",
   "outputs": [],
   "source": [
    "import pandas as pd\n",
    "import numpy as np\n",
    "import datetime as dt\n"
   ],
   "metadata": {
    "collapsed": false,
    "ExecuteTime": {
     "end_time": "2024-09-16T20:55:44.769273600Z",
     "start_time": "2024-09-16T20:55:44.542435Z"
    }
   },
   "id": "initial_id",
   "execution_count": 80
  },
  {
   "cell_type": "code",
   "outputs": [],
   "source": [
    "path = 'C:\\\\Users\\\\Arnold\\\\OneDrive\\\\Desktop\\\\Knowledge Discovery and Data Mining\\\\Car Regression\\\\car_prices_regression\\\\data\\\\raw'\n",
    "\n",
    "test_data = pd.read_csv(path + \"\\\\test.csv\")\n",
    "train_data = pd.read_csv(path +\"\\\\train.csv\")"
   ],
   "metadata": {
    "collapsed": false,
    "ExecuteTime": {
     "end_time": "2024-09-16T20:55:47.781360900Z",
     "start_time": "2024-09-16T20:55:44.623309600Z"
    }
   },
   "id": "4f8e2bb82bb73325",
   "execution_count": 81
  },
  {
   "cell_type": "code",
   "outputs": [],
   "source": [
    "#Combining the 2 data sets to perform data visualization on them\n",
    "\n",
    "x_train = train_data.drop(\"price\", axis=1)\n",
    "y_train = train_data[\"price\"]\n",
    "    \n",
    "combined_data_set = pd.concat([x_train,test_data],axis=0, ignore_index=True)\n",
    "\n",
    "y_train.to_csv(\"C:\\\\Users\\\\Arnold\\\\OneDrive\\\\Desktop\\\\Knowledge Discovery and Data Mining\\\\Car Regression\\\\car_prices_regression\\\\data\\\\interim\\\\price.csv\")"
   ],
   "metadata": {
    "collapsed": false,
    "ExecuteTime": {
     "end_time": "2024-09-16T20:55:48.705846900Z",
     "start_time": "2024-09-16T20:55:47.795783200Z"
    }
   },
   "id": "455dc69d1a854baf",
   "execution_count": 82
  },
  {
   "cell_type": "code",
   "outputs": [
    {
     "data": {
      "text/plain": "   id          brand              model  model_year  milage      fuel_type  \\\n0   0           MINI      Cooper S Base        2007  213000       Gasoline   \n1   1        Lincoln              LS V8        2002  143250       Gasoline   \n2   2      Chevrolet  Silverado 2500 LT        2002  136731  E85 Flex Fuel   \n3   3        Genesis   G90 5.0 Ultimate        2017   19500       Gasoline   \n4   4  Mercedes-Benz        Metris Base        2021    7388       Gasoline   \n\n                                              engine  \\\n0       172.0HP 1.6L 4 Cylinder Engine Gasoline Fuel   \n1       252.0HP 3.9L 8 Cylinder Engine Gasoline Fuel   \n2  320.0HP 5.3L 8 Cylinder Engine Flex Fuel Capab...   \n3       420.0HP 5.0L 8 Cylinder Engine Gasoline Fuel   \n4       208.0HP 2.0L 4 Cylinder Engine Gasoline Fuel   \n\n                     transmission ext_col int_col  \\\n0                             A/T  Yellow    Gray   \n1                             A/T  Silver   Beige   \n2                             A/T    Blue    Gray   \n3  Transmission w/Dual Shift Mode   Black   Black   \n4                     7-Speed A/T   Black   Beige   \n\n                                 accident clean_title  \n0                           None reported         Yes  \n1  At least 1 accident or damage reported         Yes  \n2                           None reported         Yes  \n3                           None reported         Yes  \n4                           None reported         Yes  ",
      "text/html": "<div>\n<style scoped>\n    .dataframe tbody tr th:only-of-type {\n        vertical-align: middle;\n    }\n\n    .dataframe tbody tr th {\n        vertical-align: top;\n    }\n\n    .dataframe thead th {\n        text-align: right;\n    }\n</style>\n<table border=\"1\" class=\"dataframe\">\n  <thead>\n    <tr style=\"text-align: right;\">\n      <th></th>\n      <th>id</th>\n      <th>brand</th>\n      <th>model</th>\n      <th>model_year</th>\n      <th>milage</th>\n      <th>fuel_type</th>\n      <th>engine</th>\n      <th>transmission</th>\n      <th>ext_col</th>\n      <th>int_col</th>\n      <th>accident</th>\n      <th>clean_title</th>\n    </tr>\n  </thead>\n  <tbody>\n    <tr>\n      <th>0</th>\n      <td>0</td>\n      <td>MINI</td>\n      <td>Cooper S Base</td>\n      <td>2007</td>\n      <td>213000</td>\n      <td>Gasoline</td>\n      <td>172.0HP 1.6L 4 Cylinder Engine Gasoline Fuel</td>\n      <td>A/T</td>\n      <td>Yellow</td>\n      <td>Gray</td>\n      <td>None reported</td>\n      <td>Yes</td>\n    </tr>\n    <tr>\n      <th>1</th>\n      <td>1</td>\n      <td>Lincoln</td>\n      <td>LS V8</td>\n      <td>2002</td>\n      <td>143250</td>\n      <td>Gasoline</td>\n      <td>252.0HP 3.9L 8 Cylinder Engine Gasoline Fuel</td>\n      <td>A/T</td>\n      <td>Silver</td>\n      <td>Beige</td>\n      <td>At least 1 accident or damage reported</td>\n      <td>Yes</td>\n    </tr>\n    <tr>\n      <th>2</th>\n      <td>2</td>\n      <td>Chevrolet</td>\n      <td>Silverado 2500 LT</td>\n      <td>2002</td>\n      <td>136731</td>\n      <td>E85 Flex Fuel</td>\n      <td>320.0HP 5.3L 8 Cylinder Engine Flex Fuel Capab...</td>\n      <td>A/T</td>\n      <td>Blue</td>\n      <td>Gray</td>\n      <td>None reported</td>\n      <td>Yes</td>\n    </tr>\n    <tr>\n      <th>3</th>\n      <td>3</td>\n      <td>Genesis</td>\n      <td>G90 5.0 Ultimate</td>\n      <td>2017</td>\n      <td>19500</td>\n      <td>Gasoline</td>\n      <td>420.0HP 5.0L 8 Cylinder Engine Gasoline Fuel</td>\n      <td>Transmission w/Dual Shift Mode</td>\n      <td>Black</td>\n      <td>Black</td>\n      <td>None reported</td>\n      <td>Yes</td>\n    </tr>\n    <tr>\n      <th>4</th>\n      <td>4</td>\n      <td>Mercedes-Benz</td>\n      <td>Metris Base</td>\n      <td>2021</td>\n      <td>7388</td>\n      <td>Gasoline</td>\n      <td>208.0HP 2.0L 4 Cylinder Engine Gasoline Fuel</td>\n      <td>7-Speed A/T</td>\n      <td>Black</td>\n      <td>Beige</td>\n      <td>None reported</td>\n      <td>Yes</td>\n    </tr>\n  </tbody>\n</table>\n</div>"
     },
     "execution_count": 83,
     "metadata": {},
     "output_type": "execute_result"
    }
   ],
   "source": [
    "combined_data_set.head()"
   ],
   "metadata": {
    "collapsed": false,
    "ExecuteTime": {
     "end_time": "2024-09-16T20:55:48.762255700Z",
     "start_time": "2024-09-16T20:55:48.713742400Z"
    }
   },
   "id": "33916b739dd8052e",
   "execution_count": 83
  },
  {
   "cell_type": "code",
   "outputs": [
    {
     "data": {
      "text/plain": "            id      brand                     model  model_year  milage  \\\n532        532      Dodge  Challenger R/T Scat Pack        2021   35000   \n1155      1155       Ford        Mustang GT Premium        2017  143600   \n1307      1307     Toyota         Land Cruiser Base        1994  138033   \n1362      1362       Ford  Mustang EcoBoost Premium        2016   43000   \n1741      1741  Chevrolet                Protege DX        1993   94200   \n...        ...        ...                       ...         ...     ...   \n313202  313202     Nissan                300ZX Base        1993  168000   \n313318  313318       Ford  Mustang EcoBoost Premium        2016  111300   \n313412  313412     Toyota         Land Cruiser Base        1996   58500   \n313634  313634  Chevrolet             1500 Cheyenne        1994  158000   \n313877  313877      Dodge        Challenger SRT 392        2016   62000   \n\n       fuel_type engine transmission ext_col int_col  \\\n532            –      –  8-Speed A/T    Blue    Gray   \n1155           –      –  6-Speed M/T   White   Black   \n1307           –      –          A/T   Green   Beige   \n1362           –      –          A/T    Blue   Black   \n1741           –      –          A/T     Red    Gray   \n...          ...    ...          ...     ...     ...   \n313202         –      –  5-Speed M/T     Red   Black   \n313318         –      –          A/T  Orange   Black   \n313412         –      –          A/T   White   Black   \n313634         –      –          A/T   White   Brown   \n313877         –      –  8-Speed A/T     Red   Black   \n\n                                      accident clean_title  \n532                              None reported         Yes  \n1155    At least 1 accident or damage reported         Yes  \n1307                             None reported         Yes  \n1362                             None reported         Yes  \n1741                             None reported         Yes  \n...                                        ...         ...  \n313202                           None reported         Yes  \n313318                           None reported         Yes  \n313412                           None reported         Yes  \n313634  At least 1 accident or damage reported         Yes  \n313877                           None reported         Yes  \n\n[1319 rows x 12 columns]",
      "text/html": "<div>\n<style scoped>\n    .dataframe tbody tr th:only-of-type {\n        vertical-align: middle;\n    }\n\n    .dataframe tbody tr th {\n        vertical-align: top;\n    }\n\n    .dataframe thead th {\n        text-align: right;\n    }\n</style>\n<table border=\"1\" class=\"dataframe\">\n  <thead>\n    <tr style=\"text-align: right;\">\n      <th></th>\n      <th>id</th>\n      <th>brand</th>\n      <th>model</th>\n      <th>model_year</th>\n      <th>milage</th>\n      <th>fuel_type</th>\n      <th>engine</th>\n      <th>transmission</th>\n      <th>ext_col</th>\n      <th>int_col</th>\n      <th>accident</th>\n      <th>clean_title</th>\n    </tr>\n  </thead>\n  <tbody>\n    <tr>\n      <th>532</th>\n      <td>532</td>\n      <td>Dodge</td>\n      <td>Challenger R/T Scat Pack</td>\n      <td>2021</td>\n      <td>35000</td>\n      <td>–</td>\n      <td>–</td>\n      <td>8-Speed A/T</td>\n      <td>Blue</td>\n      <td>Gray</td>\n      <td>None reported</td>\n      <td>Yes</td>\n    </tr>\n    <tr>\n      <th>1155</th>\n      <td>1155</td>\n      <td>Ford</td>\n      <td>Mustang GT Premium</td>\n      <td>2017</td>\n      <td>143600</td>\n      <td>–</td>\n      <td>–</td>\n      <td>6-Speed M/T</td>\n      <td>White</td>\n      <td>Black</td>\n      <td>At least 1 accident or damage reported</td>\n      <td>Yes</td>\n    </tr>\n    <tr>\n      <th>1307</th>\n      <td>1307</td>\n      <td>Toyota</td>\n      <td>Land Cruiser Base</td>\n      <td>1994</td>\n      <td>138033</td>\n      <td>–</td>\n      <td>–</td>\n      <td>A/T</td>\n      <td>Green</td>\n      <td>Beige</td>\n      <td>None reported</td>\n      <td>Yes</td>\n    </tr>\n    <tr>\n      <th>1362</th>\n      <td>1362</td>\n      <td>Ford</td>\n      <td>Mustang EcoBoost Premium</td>\n      <td>2016</td>\n      <td>43000</td>\n      <td>–</td>\n      <td>–</td>\n      <td>A/T</td>\n      <td>Blue</td>\n      <td>Black</td>\n      <td>None reported</td>\n      <td>Yes</td>\n    </tr>\n    <tr>\n      <th>1741</th>\n      <td>1741</td>\n      <td>Chevrolet</td>\n      <td>Protege DX</td>\n      <td>1993</td>\n      <td>94200</td>\n      <td>–</td>\n      <td>–</td>\n      <td>A/T</td>\n      <td>Red</td>\n      <td>Gray</td>\n      <td>None reported</td>\n      <td>Yes</td>\n    </tr>\n    <tr>\n      <th>...</th>\n      <td>...</td>\n      <td>...</td>\n      <td>...</td>\n      <td>...</td>\n      <td>...</td>\n      <td>...</td>\n      <td>...</td>\n      <td>...</td>\n      <td>...</td>\n      <td>...</td>\n      <td>...</td>\n      <td>...</td>\n    </tr>\n    <tr>\n      <th>313202</th>\n      <td>313202</td>\n      <td>Nissan</td>\n      <td>300ZX Base</td>\n      <td>1993</td>\n      <td>168000</td>\n      <td>–</td>\n      <td>–</td>\n      <td>5-Speed M/T</td>\n      <td>Red</td>\n      <td>Black</td>\n      <td>None reported</td>\n      <td>Yes</td>\n    </tr>\n    <tr>\n      <th>313318</th>\n      <td>313318</td>\n      <td>Ford</td>\n      <td>Mustang EcoBoost Premium</td>\n      <td>2016</td>\n      <td>111300</td>\n      <td>–</td>\n      <td>–</td>\n      <td>A/T</td>\n      <td>Orange</td>\n      <td>Black</td>\n      <td>None reported</td>\n      <td>Yes</td>\n    </tr>\n    <tr>\n      <th>313412</th>\n      <td>313412</td>\n      <td>Toyota</td>\n      <td>Land Cruiser Base</td>\n      <td>1996</td>\n      <td>58500</td>\n      <td>–</td>\n      <td>–</td>\n      <td>A/T</td>\n      <td>White</td>\n      <td>Black</td>\n      <td>None reported</td>\n      <td>Yes</td>\n    </tr>\n    <tr>\n      <th>313634</th>\n      <td>313634</td>\n      <td>Chevrolet</td>\n      <td>1500 Cheyenne</td>\n      <td>1994</td>\n      <td>158000</td>\n      <td>–</td>\n      <td>–</td>\n      <td>A/T</td>\n      <td>White</td>\n      <td>Brown</td>\n      <td>At least 1 accident or damage reported</td>\n      <td>Yes</td>\n    </tr>\n    <tr>\n      <th>313877</th>\n      <td>313877</td>\n      <td>Dodge</td>\n      <td>Challenger SRT 392</td>\n      <td>2016</td>\n      <td>62000</td>\n      <td>–</td>\n      <td>–</td>\n      <td>8-Speed A/T</td>\n      <td>Red</td>\n      <td>Black</td>\n      <td>None reported</td>\n      <td>Yes</td>\n    </tr>\n  </tbody>\n</table>\n<p>1319 rows × 12 columns</p>\n</div>"
     },
     "execution_count": 84,
     "metadata": {},
     "output_type": "execute_result"
    }
   ],
   "source": [
    "## Checking the null values in fuel_type column\n",
    "\n",
    "fuel_null = combined_data_set.loc[combined_data_set['fuel_type'] == \"–\"]\n",
    "fuel_null"
   ],
   "metadata": {
    "collapsed": false,
    "ExecuteTime": {
     "end_time": "2024-09-16T20:55:48.993263600Z",
     "start_time": "2024-09-16T20:55:48.765691500Z"
    }
   },
   "id": "d3c7aa105a8f6cd9",
   "execution_count": 84
  },
  {
   "cell_type": "code",
   "outputs": [
    {
     "data": {
      "text/plain": "0.41976558049538065"
     },
     "execution_count": 85,
     "metadata": {},
     "output_type": "execute_result"
    }
   ],
   "source": [
    "\n",
    "(len(fuel_null.id)/len(combined_data_set.id)) * 100\n",
    "\n"
   ],
   "metadata": {
    "collapsed": false,
    "ExecuteTime": {
     "end_time": "2024-09-16T20:55:48.994263300Z",
     "start_time": "2024-09-16T20:55:48.866982600Z"
    }
   },
   "id": "5b55af7399d0e68b",
   "execution_count": 85
  },
  {
   "cell_type": "markdown",
   "source": [
    "We could drop the rows with the null values in the fuel_type column since it is a marginal proportion of all vehicles"
   ],
   "metadata": {
    "collapsed": false
   },
   "id": "60b9207f7c2bf6d4"
  },
  {
   "cell_type": "code",
   "outputs": [],
   "source": [
    "combined_data_set = combined_data_set[~(combined_data_set['fuel_type'] == \"–\")]"
   ],
   "metadata": {
    "collapsed": false,
    "ExecuteTime": {
     "end_time": "2024-09-16T20:55:49.175712300Z",
     "start_time": "2024-09-16T20:55:48.897595800Z"
    }
   },
   "id": "eceb3b8c6f40e713",
   "execution_count": 86
  },
  {
   "cell_type": "code",
   "outputs": [
    {
     "data": {
      "text/plain": "            id      brand                           model  model_year  milage  \\\n4823      4823  Chevrolet                     Suburban LT        2011  109646   \n18000    18000    Porsche                      Camaro 2SS        2015   67000   \n19182    19182     Nissan                   Mirai Limited        2000  131000   \n27199    27199     Subaru            Outback 2.5i Limited        2017  116000   \n33030    33030     Nissan                   Mirai Limited        2009  137333   \n60717    60717  Chevrolet              Silverado 1500 RST        2020   19200   \n74096    74096     Toyota                   Mirai Limited        2021   79876   \n86897    86897      Lexus                  IS 350 F Sport        2022    9500   \n94425    94425    Porsche                Cayenne Turbo GT        2018   52000   \n127066  127066     Toyota                   Mirai Limited        2016   58664   \n128917  128917      Mazda                 MX-5 Miata Base        1999  120000   \n135865  135865      Lexus                   Mirai Limited        2014  123331   \n140206  140206      Lexus                     RX 330 Base        2006  110000   \n171120  171120     Hummer                         H2 Base        2013  152068   \n171659  171659     Toyota                   Mirai Limited        2021   44000   \n200729  200729     Toyota                      Mirai Base        2011   91491   \n209488  209488       Alfa          Romeo Stelvio Ti Sport        2018   23600   \n229103  229103       Audi                 A3 2.0T Premium        2015  205500   \n249628  249628     Toyota                      Mirai Base        2018   18000   \n256193  256193     Nissan                   Mirai Limited        2016   49688   \n259042  259042     Toyota                      Mirai Base        2015   46873   \n262931  262931  Chevrolet         Corvette Stingray w/2LT        2018    5400   \n264225  264225       Land  Rover Range Rover Supercharged        2014  134000   \n266935  266935       Ford                   Focus ST Base        2018   49500   \n273147  273147     Toyota                   Mirai Limited        2021   20500   \n279874  279874     Toyota                   Mirai Limited        2011  107000   \n285151  285151   Cadillac              Escalade ESV Sport        2018   32000   \n308236  308236     Subaru                    WRX STI Base        2014   76500   \n310455  310455     Toyota                      Mirai Base        2016   74000   \n\n            fuel_type                                             engine  \\\n4823    not supported  320.0HP 5.3L 8 Cylinder Engine Flex Fuel Capab...   \n18000   not supported       240.0HP 2.0L 4 Cylinder Engine Gasoline Fuel   \n19182   not supported               182.0HP Electric Motor Hydrogen Fuel   \n27199   not supported       175.0HP 2.5L 4 Cylinder Engine Gasoline Fuel   \n33030   not supported               182.0HP Electric Motor Hydrogen Fuel   \n60717   not supported       355.0HP 5.3L 8 Cylinder Engine Gasoline Fuel   \n74096   not supported               182.0HP Electric Motor Hydrogen Fuel   \n86897   not supported      311.0HP 3.5L V6 Cylinder Engine Gasoline Fuel   \n94425   not supported       550.0HP 4.8L 8 Cylinder Engine Gasoline Fuel   \n127066  not supported               151.0HP Electric Motor Hydrogen Fuel   \n128917  not supported       140.0HP 1.8L 4 Cylinder Engine Gasoline Fuel   \n135865  not supported               182.0HP Electric Motor Hydrogen Fuel   \n140206  not supported      230.0HP 3.3L V6 Cylinder Engine Gasoline Fuel   \n171120  not supported       316.0HP 6.0L 8 Cylinder Engine Gasoline Fuel   \n171659  not supported               182.0HP Electric Motor Hydrogen Fuel   \n200729  not supported               151.0HP Electric Motor Hydrogen Fuel   \n209488  not supported       280.0HP 2.0L 4 Cylinder Engine Gasoline Fuel   \n229103  not supported       211.0HP 2.0L 4 Cylinder Engine Gasoline Fuel   \n249628  not supported               151.0HP Electric Motor Hydrogen Fuel   \n256193  not supported               151.0HP Electric Motor Hydrogen Fuel   \n259042  not supported               151.0HP Electric Motor Hydrogen Fuel   \n262931  not supported       490.0HP 6.2L 8 Cylinder Engine Gasoline Fuel   \n264225  not supported  510.0HP 5.0L 8 Cylinder Engine Flex Fuel Capab...   \n266935  not supported       252.0HP 2.0L 4 Cylinder Engine Gasoline Fuel   \n273147  not supported               151.0HP Electric Motor Hydrogen Fuel   \n279874  not supported               182.0HP Electric Motor Hydrogen Fuel   \n285151  not supported       420.0HP 6.2L 8 Cylinder Engine Gasoline Fuel   \n308236  not supported       305.0HP 2.5L 4 Cylinder Engine Gasoline Fuel   \n310455  not supported               182.0HP Electric Motor Hydrogen Fuel   \n\n                          transmission ext_col int_col  \\\n4823                       6-Speed A/T   Black   Beige   \n18000   Transmission w/Dual Shift Mode   Black   Black   \n19182                              A/T  Silver   Black   \n27199                 CVT Transmission    Gray   Black   \n33030                              A/T   White    Gray   \n60717                     10-Speed A/T   White   Black   \n74096                              A/T     Red   Black   \n86897                              A/T    Gray   Black   \n94425   Transmission w/Dual Shift Mode    Gray    Gray   \n127066                CVT Transmission   Black   Black   \n128917                     5-Speed M/T   Black   Beige   \n135865                             A/T     Red    Gray   \n140206                     5-Speed A/T   White   Beige   \n171120                             A/T   Black   Black   \n171659                             A/T    Gray   Black   \n200729                     5-Speed A/T    Gray    Gray   \n209488                     8-Speed A/T   Black   Beige   \n229103                             A/T    Gold   Beige   \n249628                             A/T   White    Gray   \n256193                CVT Transmission  Silver   Black   \n259042                     5-Speed A/T   Green   Black   \n262931                     8-Speed A/T   Black     Red   \n264225                             A/T     Red   White   \n266935                CVT Transmission   Black    Gray   \n273147                             A/T  Silver   Black   \n279874                             A/T   Black    Gray   \n285151                             A/T   White   Black   \n308236                     7-Speed A/T   Black   Black   \n310455                             A/T   Black   Black   \n\n                                      accident clean_title  \n4823                             None reported         Yes  \n18000                            None reported         Yes  \n19182                            None reported         Yes  \n27199   At least 1 accident or damage reported         Yes  \n33030   At least 1 accident or damage reported         Yes  \n60717   At least 1 accident or damage reported         Yes  \n74096                            None reported         Yes  \n86897                            None reported         Yes  \n94425   At least 1 accident or damage reported         Yes  \n127066  At least 1 accident or damage reported         Yes  \n128917  At least 1 accident or damage reported         Yes  \n135865  At least 1 accident or damage reported         Yes  \n140206  At least 1 accident or damage reported         Yes  \n171120  At least 1 accident or damage reported         Yes  \n171659                           None reported         Yes  \n200729                           None reported         Yes  \n209488                           None reported         Yes  \n229103  At least 1 accident or damage reported         Yes  \n249628                           None reported         Yes  \n256193                           None reported         Yes  \n259042  At least 1 accident or damage reported         Yes  \n262931                           None reported         Yes  \n264225                           None reported         Yes  \n266935  At least 1 accident or damage reported         Yes  \n273147                           None reported         Yes  \n279874                           None reported         Yes  \n285151                           None reported         Yes  \n308236                           None reported         Yes  \n310455  At least 1 accident or damage reported         Yes  ",
      "text/html": "<div>\n<style scoped>\n    .dataframe tbody tr th:only-of-type {\n        vertical-align: middle;\n    }\n\n    .dataframe tbody tr th {\n        vertical-align: top;\n    }\n\n    .dataframe thead th {\n        text-align: right;\n    }\n</style>\n<table border=\"1\" class=\"dataframe\">\n  <thead>\n    <tr style=\"text-align: right;\">\n      <th></th>\n      <th>id</th>\n      <th>brand</th>\n      <th>model</th>\n      <th>model_year</th>\n      <th>milage</th>\n      <th>fuel_type</th>\n      <th>engine</th>\n      <th>transmission</th>\n      <th>ext_col</th>\n      <th>int_col</th>\n      <th>accident</th>\n      <th>clean_title</th>\n    </tr>\n  </thead>\n  <tbody>\n    <tr>\n      <th>4823</th>\n      <td>4823</td>\n      <td>Chevrolet</td>\n      <td>Suburban LT</td>\n      <td>2011</td>\n      <td>109646</td>\n      <td>not supported</td>\n      <td>320.0HP 5.3L 8 Cylinder Engine Flex Fuel Capab...</td>\n      <td>6-Speed A/T</td>\n      <td>Black</td>\n      <td>Beige</td>\n      <td>None reported</td>\n      <td>Yes</td>\n    </tr>\n    <tr>\n      <th>18000</th>\n      <td>18000</td>\n      <td>Porsche</td>\n      <td>Camaro 2SS</td>\n      <td>2015</td>\n      <td>67000</td>\n      <td>not supported</td>\n      <td>240.0HP 2.0L 4 Cylinder Engine Gasoline Fuel</td>\n      <td>Transmission w/Dual Shift Mode</td>\n      <td>Black</td>\n      <td>Black</td>\n      <td>None reported</td>\n      <td>Yes</td>\n    </tr>\n    <tr>\n      <th>19182</th>\n      <td>19182</td>\n      <td>Nissan</td>\n      <td>Mirai Limited</td>\n      <td>2000</td>\n      <td>131000</td>\n      <td>not supported</td>\n      <td>182.0HP Electric Motor Hydrogen Fuel</td>\n      <td>A/T</td>\n      <td>Silver</td>\n      <td>Black</td>\n      <td>None reported</td>\n      <td>Yes</td>\n    </tr>\n    <tr>\n      <th>27199</th>\n      <td>27199</td>\n      <td>Subaru</td>\n      <td>Outback 2.5i Limited</td>\n      <td>2017</td>\n      <td>116000</td>\n      <td>not supported</td>\n      <td>175.0HP 2.5L 4 Cylinder Engine Gasoline Fuel</td>\n      <td>CVT Transmission</td>\n      <td>Gray</td>\n      <td>Black</td>\n      <td>At least 1 accident or damage reported</td>\n      <td>Yes</td>\n    </tr>\n    <tr>\n      <th>33030</th>\n      <td>33030</td>\n      <td>Nissan</td>\n      <td>Mirai Limited</td>\n      <td>2009</td>\n      <td>137333</td>\n      <td>not supported</td>\n      <td>182.0HP Electric Motor Hydrogen Fuel</td>\n      <td>A/T</td>\n      <td>White</td>\n      <td>Gray</td>\n      <td>At least 1 accident or damage reported</td>\n      <td>Yes</td>\n    </tr>\n    <tr>\n      <th>60717</th>\n      <td>60717</td>\n      <td>Chevrolet</td>\n      <td>Silverado 1500 RST</td>\n      <td>2020</td>\n      <td>19200</td>\n      <td>not supported</td>\n      <td>355.0HP 5.3L 8 Cylinder Engine Gasoline Fuel</td>\n      <td>10-Speed A/T</td>\n      <td>White</td>\n      <td>Black</td>\n      <td>At least 1 accident or damage reported</td>\n      <td>Yes</td>\n    </tr>\n    <tr>\n      <th>74096</th>\n      <td>74096</td>\n      <td>Toyota</td>\n      <td>Mirai Limited</td>\n      <td>2021</td>\n      <td>79876</td>\n      <td>not supported</td>\n      <td>182.0HP Electric Motor Hydrogen Fuel</td>\n      <td>A/T</td>\n      <td>Red</td>\n      <td>Black</td>\n      <td>None reported</td>\n      <td>Yes</td>\n    </tr>\n    <tr>\n      <th>86897</th>\n      <td>86897</td>\n      <td>Lexus</td>\n      <td>IS 350 F Sport</td>\n      <td>2022</td>\n      <td>9500</td>\n      <td>not supported</td>\n      <td>311.0HP 3.5L V6 Cylinder Engine Gasoline Fuel</td>\n      <td>A/T</td>\n      <td>Gray</td>\n      <td>Black</td>\n      <td>None reported</td>\n      <td>Yes</td>\n    </tr>\n    <tr>\n      <th>94425</th>\n      <td>94425</td>\n      <td>Porsche</td>\n      <td>Cayenne Turbo GT</td>\n      <td>2018</td>\n      <td>52000</td>\n      <td>not supported</td>\n      <td>550.0HP 4.8L 8 Cylinder Engine Gasoline Fuel</td>\n      <td>Transmission w/Dual Shift Mode</td>\n      <td>Gray</td>\n      <td>Gray</td>\n      <td>At least 1 accident or damage reported</td>\n      <td>Yes</td>\n    </tr>\n    <tr>\n      <th>127066</th>\n      <td>127066</td>\n      <td>Toyota</td>\n      <td>Mirai Limited</td>\n      <td>2016</td>\n      <td>58664</td>\n      <td>not supported</td>\n      <td>151.0HP Electric Motor Hydrogen Fuel</td>\n      <td>CVT Transmission</td>\n      <td>Black</td>\n      <td>Black</td>\n      <td>At least 1 accident or damage reported</td>\n      <td>Yes</td>\n    </tr>\n    <tr>\n      <th>128917</th>\n      <td>128917</td>\n      <td>Mazda</td>\n      <td>MX-5 Miata Base</td>\n      <td>1999</td>\n      <td>120000</td>\n      <td>not supported</td>\n      <td>140.0HP 1.8L 4 Cylinder Engine Gasoline Fuel</td>\n      <td>5-Speed M/T</td>\n      <td>Black</td>\n      <td>Beige</td>\n      <td>At least 1 accident or damage reported</td>\n      <td>Yes</td>\n    </tr>\n    <tr>\n      <th>135865</th>\n      <td>135865</td>\n      <td>Lexus</td>\n      <td>Mirai Limited</td>\n      <td>2014</td>\n      <td>123331</td>\n      <td>not supported</td>\n      <td>182.0HP Electric Motor Hydrogen Fuel</td>\n      <td>A/T</td>\n      <td>Red</td>\n      <td>Gray</td>\n      <td>At least 1 accident or damage reported</td>\n      <td>Yes</td>\n    </tr>\n    <tr>\n      <th>140206</th>\n      <td>140206</td>\n      <td>Lexus</td>\n      <td>RX 330 Base</td>\n      <td>2006</td>\n      <td>110000</td>\n      <td>not supported</td>\n      <td>230.0HP 3.3L V6 Cylinder Engine Gasoline Fuel</td>\n      <td>5-Speed A/T</td>\n      <td>White</td>\n      <td>Beige</td>\n      <td>At least 1 accident or damage reported</td>\n      <td>Yes</td>\n    </tr>\n    <tr>\n      <th>171120</th>\n      <td>171120</td>\n      <td>Hummer</td>\n      <td>H2 Base</td>\n      <td>2013</td>\n      <td>152068</td>\n      <td>not supported</td>\n      <td>316.0HP 6.0L 8 Cylinder Engine Gasoline Fuel</td>\n      <td>A/T</td>\n      <td>Black</td>\n      <td>Black</td>\n      <td>At least 1 accident or damage reported</td>\n      <td>Yes</td>\n    </tr>\n    <tr>\n      <th>171659</th>\n      <td>171659</td>\n      <td>Toyota</td>\n      <td>Mirai Limited</td>\n      <td>2021</td>\n      <td>44000</td>\n      <td>not supported</td>\n      <td>182.0HP Electric Motor Hydrogen Fuel</td>\n      <td>A/T</td>\n      <td>Gray</td>\n      <td>Black</td>\n      <td>None reported</td>\n      <td>Yes</td>\n    </tr>\n    <tr>\n      <th>200729</th>\n      <td>200729</td>\n      <td>Toyota</td>\n      <td>Mirai Base</td>\n      <td>2011</td>\n      <td>91491</td>\n      <td>not supported</td>\n      <td>151.0HP Electric Motor Hydrogen Fuel</td>\n      <td>5-Speed A/T</td>\n      <td>Gray</td>\n      <td>Gray</td>\n      <td>None reported</td>\n      <td>Yes</td>\n    </tr>\n    <tr>\n      <th>209488</th>\n      <td>209488</td>\n      <td>Alfa</td>\n      <td>Romeo Stelvio Ti Sport</td>\n      <td>2018</td>\n      <td>23600</td>\n      <td>not supported</td>\n      <td>280.0HP 2.0L 4 Cylinder Engine Gasoline Fuel</td>\n      <td>8-Speed A/T</td>\n      <td>Black</td>\n      <td>Beige</td>\n      <td>None reported</td>\n      <td>Yes</td>\n    </tr>\n    <tr>\n      <th>229103</th>\n      <td>229103</td>\n      <td>Audi</td>\n      <td>A3 2.0T Premium</td>\n      <td>2015</td>\n      <td>205500</td>\n      <td>not supported</td>\n      <td>211.0HP 2.0L 4 Cylinder Engine Gasoline Fuel</td>\n      <td>A/T</td>\n      <td>Gold</td>\n      <td>Beige</td>\n      <td>At least 1 accident or damage reported</td>\n      <td>Yes</td>\n    </tr>\n    <tr>\n      <th>249628</th>\n      <td>249628</td>\n      <td>Toyota</td>\n      <td>Mirai Base</td>\n      <td>2018</td>\n      <td>18000</td>\n      <td>not supported</td>\n      <td>151.0HP Electric Motor Hydrogen Fuel</td>\n      <td>A/T</td>\n      <td>White</td>\n      <td>Gray</td>\n      <td>None reported</td>\n      <td>Yes</td>\n    </tr>\n    <tr>\n      <th>256193</th>\n      <td>256193</td>\n      <td>Nissan</td>\n      <td>Mirai Limited</td>\n      <td>2016</td>\n      <td>49688</td>\n      <td>not supported</td>\n      <td>151.0HP Electric Motor Hydrogen Fuel</td>\n      <td>CVT Transmission</td>\n      <td>Silver</td>\n      <td>Black</td>\n      <td>None reported</td>\n      <td>Yes</td>\n    </tr>\n    <tr>\n      <th>259042</th>\n      <td>259042</td>\n      <td>Toyota</td>\n      <td>Mirai Base</td>\n      <td>2015</td>\n      <td>46873</td>\n      <td>not supported</td>\n      <td>151.0HP Electric Motor Hydrogen Fuel</td>\n      <td>5-Speed A/T</td>\n      <td>Green</td>\n      <td>Black</td>\n      <td>At least 1 accident or damage reported</td>\n      <td>Yes</td>\n    </tr>\n    <tr>\n      <th>262931</th>\n      <td>262931</td>\n      <td>Chevrolet</td>\n      <td>Corvette Stingray w/2LT</td>\n      <td>2018</td>\n      <td>5400</td>\n      <td>not supported</td>\n      <td>490.0HP 6.2L 8 Cylinder Engine Gasoline Fuel</td>\n      <td>8-Speed A/T</td>\n      <td>Black</td>\n      <td>Red</td>\n      <td>None reported</td>\n      <td>Yes</td>\n    </tr>\n    <tr>\n      <th>264225</th>\n      <td>264225</td>\n      <td>Land</td>\n      <td>Rover Range Rover Supercharged</td>\n      <td>2014</td>\n      <td>134000</td>\n      <td>not supported</td>\n      <td>510.0HP 5.0L 8 Cylinder Engine Flex Fuel Capab...</td>\n      <td>A/T</td>\n      <td>Red</td>\n      <td>White</td>\n      <td>None reported</td>\n      <td>Yes</td>\n    </tr>\n    <tr>\n      <th>266935</th>\n      <td>266935</td>\n      <td>Ford</td>\n      <td>Focus ST Base</td>\n      <td>2018</td>\n      <td>49500</td>\n      <td>not supported</td>\n      <td>252.0HP 2.0L 4 Cylinder Engine Gasoline Fuel</td>\n      <td>CVT Transmission</td>\n      <td>Black</td>\n      <td>Gray</td>\n      <td>At least 1 accident or damage reported</td>\n      <td>Yes</td>\n    </tr>\n    <tr>\n      <th>273147</th>\n      <td>273147</td>\n      <td>Toyota</td>\n      <td>Mirai Limited</td>\n      <td>2021</td>\n      <td>20500</td>\n      <td>not supported</td>\n      <td>151.0HP Electric Motor Hydrogen Fuel</td>\n      <td>A/T</td>\n      <td>Silver</td>\n      <td>Black</td>\n      <td>None reported</td>\n      <td>Yes</td>\n    </tr>\n    <tr>\n      <th>279874</th>\n      <td>279874</td>\n      <td>Toyota</td>\n      <td>Mirai Limited</td>\n      <td>2011</td>\n      <td>107000</td>\n      <td>not supported</td>\n      <td>182.0HP Electric Motor Hydrogen Fuel</td>\n      <td>A/T</td>\n      <td>Black</td>\n      <td>Gray</td>\n      <td>None reported</td>\n      <td>Yes</td>\n    </tr>\n    <tr>\n      <th>285151</th>\n      <td>285151</td>\n      <td>Cadillac</td>\n      <td>Escalade ESV Sport</td>\n      <td>2018</td>\n      <td>32000</td>\n      <td>not supported</td>\n      <td>420.0HP 6.2L 8 Cylinder Engine Gasoline Fuel</td>\n      <td>A/T</td>\n      <td>White</td>\n      <td>Black</td>\n      <td>None reported</td>\n      <td>Yes</td>\n    </tr>\n    <tr>\n      <th>308236</th>\n      <td>308236</td>\n      <td>Subaru</td>\n      <td>WRX STI Base</td>\n      <td>2014</td>\n      <td>76500</td>\n      <td>not supported</td>\n      <td>305.0HP 2.5L 4 Cylinder Engine Gasoline Fuel</td>\n      <td>7-Speed A/T</td>\n      <td>Black</td>\n      <td>Black</td>\n      <td>None reported</td>\n      <td>Yes</td>\n    </tr>\n    <tr>\n      <th>310455</th>\n      <td>310455</td>\n      <td>Toyota</td>\n      <td>Mirai Base</td>\n      <td>2016</td>\n      <td>74000</td>\n      <td>not supported</td>\n      <td>182.0HP Electric Motor Hydrogen Fuel</td>\n      <td>A/T</td>\n      <td>Black</td>\n      <td>Black</td>\n      <td>At least 1 accident or damage reported</td>\n      <td>Yes</td>\n    </tr>\n  </tbody>\n</table>\n</div>"
     },
     "execution_count": 87,
     "metadata": {},
     "output_type": "execute_result"
    }
   ],
   "source": [
    "not_supported_fuel  = combined_data_set.loc[combined_data_set['fuel_type'] == \"not supported\"]\n",
    "not_supported_fuel"
   ],
   "metadata": {
    "collapsed": false,
    "ExecuteTime": {
     "end_time": "2024-09-16T20:55:49.343907600Z",
     "start_time": "2024-09-16T20:55:48.945754100Z"
    }
   },
   "id": "bc99f921c8d91601",
   "execution_count": 87
  },
  {
   "cell_type": "code",
   "outputs": [
    {
     "data": {
      "text/plain": "0.009268018305934088"
     },
     "execution_count": 88,
     "metadata": {},
     "output_type": "execute_result"
    }
   ],
   "source": [
    "\n",
    "(len(not_supported_fuel.id)/len(combined_data_set.id)) * 100\n"
   ],
   "metadata": {
    "collapsed": false,
    "ExecuteTime": {
     "end_time": "2024-09-16T20:55:49.346555300Z",
     "start_time": "2024-09-16T20:55:49.021740700Z"
    }
   },
   "id": "6455eeb2004606bb",
   "execution_count": 88
  },
  {
   "cell_type": "code",
   "outputs": [
    {
     "data": {
      "text/plain": "            id   brand                  model  model_year  milage fuel_type  \\\n11          11   Tesla          Model S P100D        2015   81500       NaN   \n32          32   Tesla          Model S P100D        2018   30300       NaN   \n51          51   Tesla     Model 3 Long Range        2020   38360       NaN   \n52          52   Tesla            Model X 75D        2021   88000       NaN   \n161        161   Tesla     Model S Long Range        2021    9500       NaN   \n...        ...     ...                    ...         ...     ...       ...   \n313955  313955  Rivian  R1S Adventure Package        2023    9000       NaN   \n314063  314063   Tesla     Model 3 Long Range        2018   42094       NaN   \n314201  314201   Tesla           Model S 100D        2018   58000       NaN   \n314210  314210   Tesla     Model 3 Long Range        2019   69548       NaN   \n314217  314217   Tesla             Model S 85        2014   67647       NaN   \n\n                                             engine transmission ext_col  \\\n11              Electric Motor Electric Fuel System  1-Speed A/T    Gray   \n32      518.0HP Electric Motor Electric Fuel System          A/T   White   \n51                            Dual Motor - Standard    Automatic   White   \n52      518.0HP Electric Motor Electric Fuel System  1-Speed A/T   Black   \n161     670.0HP Electric Motor Electric Fuel System          A/T   White   \n...                                             ...          ...     ...   \n313955  835.0HP Electric Motor Electric Fuel System          A/T     Red   \n314063  271.0HP Electric Motor Electric Fuel System          A/T   Black   \n314201  518.0HP Electric Motor Electric Fuel System  1-Speed A/T    Gray   \n314210          Electric Motor Electric Fuel System  1-Speed A/T     Red   \n314217  362.0HP Electric Motor Electric Fuel System  1-Speed A/T    Blue   \n\n       int_col                                accident clean_title  \n11       White                           None reported         Yes  \n32       White                           None reported         Yes  \n51       Black                           None reported         NaN  \n52       Black                           None reported         Yes  \n161      Beige                           None reported         Yes  \n...        ...                                     ...         ...  \n313955   White                           None reported         Yes  \n314063   Black                           None reported         Yes  \n314201   Black                           None reported         Yes  \n314210   Black                           None reported         Yes  \n314217   Black  At least 1 accident or damage reported         Yes  \n\n[8466 rows x 12 columns]",
      "text/html": "<div>\n<style scoped>\n    .dataframe tbody tr th:only-of-type {\n        vertical-align: middle;\n    }\n\n    .dataframe tbody tr th {\n        vertical-align: top;\n    }\n\n    .dataframe thead th {\n        text-align: right;\n    }\n</style>\n<table border=\"1\" class=\"dataframe\">\n  <thead>\n    <tr style=\"text-align: right;\">\n      <th></th>\n      <th>id</th>\n      <th>brand</th>\n      <th>model</th>\n      <th>model_year</th>\n      <th>milage</th>\n      <th>fuel_type</th>\n      <th>engine</th>\n      <th>transmission</th>\n      <th>ext_col</th>\n      <th>int_col</th>\n      <th>accident</th>\n      <th>clean_title</th>\n    </tr>\n  </thead>\n  <tbody>\n    <tr>\n      <th>11</th>\n      <td>11</td>\n      <td>Tesla</td>\n      <td>Model S P100D</td>\n      <td>2015</td>\n      <td>81500</td>\n      <td>NaN</td>\n      <td>Electric Motor Electric Fuel System</td>\n      <td>1-Speed A/T</td>\n      <td>Gray</td>\n      <td>White</td>\n      <td>None reported</td>\n      <td>Yes</td>\n    </tr>\n    <tr>\n      <th>32</th>\n      <td>32</td>\n      <td>Tesla</td>\n      <td>Model S P100D</td>\n      <td>2018</td>\n      <td>30300</td>\n      <td>NaN</td>\n      <td>518.0HP Electric Motor Electric Fuel System</td>\n      <td>A/T</td>\n      <td>White</td>\n      <td>White</td>\n      <td>None reported</td>\n      <td>Yes</td>\n    </tr>\n    <tr>\n      <th>51</th>\n      <td>51</td>\n      <td>Tesla</td>\n      <td>Model 3 Long Range</td>\n      <td>2020</td>\n      <td>38360</td>\n      <td>NaN</td>\n      <td>Dual Motor - Standard</td>\n      <td>Automatic</td>\n      <td>White</td>\n      <td>Black</td>\n      <td>None reported</td>\n      <td>NaN</td>\n    </tr>\n    <tr>\n      <th>52</th>\n      <td>52</td>\n      <td>Tesla</td>\n      <td>Model X 75D</td>\n      <td>2021</td>\n      <td>88000</td>\n      <td>NaN</td>\n      <td>518.0HP Electric Motor Electric Fuel System</td>\n      <td>1-Speed A/T</td>\n      <td>Black</td>\n      <td>Black</td>\n      <td>None reported</td>\n      <td>Yes</td>\n    </tr>\n    <tr>\n      <th>161</th>\n      <td>161</td>\n      <td>Tesla</td>\n      <td>Model S Long Range</td>\n      <td>2021</td>\n      <td>9500</td>\n      <td>NaN</td>\n      <td>670.0HP Electric Motor Electric Fuel System</td>\n      <td>A/T</td>\n      <td>White</td>\n      <td>Beige</td>\n      <td>None reported</td>\n      <td>Yes</td>\n    </tr>\n    <tr>\n      <th>...</th>\n      <td>...</td>\n      <td>...</td>\n      <td>...</td>\n      <td>...</td>\n      <td>...</td>\n      <td>...</td>\n      <td>...</td>\n      <td>...</td>\n      <td>...</td>\n      <td>...</td>\n      <td>...</td>\n      <td>...</td>\n    </tr>\n    <tr>\n      <th>313955</th>\n      <td>313955</td>\n      <td>Rivian</td>\n      <td>R1S Adventure Package</td>\n      <td>2023</td>\n      <td>9000</td>\n      <td>NaN</td>\n      <td>835.0HP Electric Motor Electric Fuel System</td>\n      <td>A/T</td>\n      <td>Red</td>\n      <td>White</td>\n      <td>None reported</td>\n      <td>Yes</td>\n    </tr>\n    <tr>\n      <th>314063</th>\n      <td>314063</td>\n      <td>Tesla</td>\n      <td>Model 3 Long Range</td>\n      <td>2018</td>\n      <td>42094</td>\n      <td>NaN</td>\n      <td>271.0HP Electric Motor Electric Fuel System</td>\n      <td>A/T</td>\n      <td>Black</td>\n      <td>Black</td>\n      <td>None reported</td>\n      <td>Yes</td>\n    </tr>\n    <tr>\n      <th>314201</th>\n      <td>314201</td>\n      <td>Tesla</td>\n      <td>Model S 100D</td>\n      <td>2018</td>\n      <td>58000</td>\n      <td>NaN</td>\n      <td>518.0HP Electric Motor Electric Fuel System</td>\n      <td>1-Speed A/T</td>\n      <td>Gray</td>\n      <td>Black</td>\n      <td>None reported</td>\n      <td>Yes</td>\n    </tr>\n    <tr>\n      <th>314210</th>\n      <td>314210</td>\n      <td>Tesla</td>\n      <td>Model 3 Long Range</td>\n      <td>2019</td>\n      <td>69548</td>\n      <td>NaN</td>\n      <td>Electric Motor Electric Fuel System</td>\n      <td>1-Speed A/T</td>\n      <td>Red</td>\n      <td>Black</td>\n      <td>None reported</td>\n      <td>Yes</td>\n    </tr>\n    <tr>\n      <th>314217</th>\n      <td>314217</td>\n      <td>Tesla</td>\n      <td>Model S 85</td>\n      <td>2014</td>\n      <td>67647</td>\n      <td>NaN</td>\n      <td>362.0HP Electric Motor Electric Fuel System</td>\n      <td>1-Speed A/T</td>\n      <td>Blue</td>\n      <td>Black</td>\n      <td>At least 1 accident or damage reported</td>\n      <td>Yes</td>\n    </tr>\n  </tbody>\n</table>\n<p>8466 rows × 12 columns</p>\n</div>"
     },
     "execution_count": 89,
     "metadata": {},
     "output_type": "execute_result"
    }
   ],
   "source": [
    "is_na_fuel_type = combined_data_set.loc[combined_data_set[\"fuel_type\"].isna()]\n",
    "is_na_fuel_type\n"
   ],
   "metadata": {
    "collapsed": false,
    "ExecuteTime": {
     "end_time": "2024-09-16T20:55:49.437378400Z",
     "start_time": "2024-09-16T20:55:49.040469900Z"
    }
   },
   "id": "4efec96bdacaccc5",
   "execution_count": 89
  },
  {
   "cell_type": "markdown",
   "source": [
    "It appears most of these vehicles are electric "
   ],
   "metadata": {
    "collapsed": false
   },
   "id": "756c84ba3a99890b"
  },
  {
   "cell_type": "code",
   "outputs": [
    {
     "data": {
      "text/plain": "2.7056221716564828"
     },
     "execution_count": 90,
     "metadata": {},
     "output_type": "execute_result"
    }
   ],
   "source": [
    "(len(is_na_fuel_type.id)/len(combined_data_set.id)) * 100\n"
   ],
   "metadata": {
    "collapsed": false,
    "ExecuteTime": {
     "end_time": "2024-09-16T20:55:49.440955900Z",
     "start_time": "2024-09-16T20:55:49.105905300Z"
    }
   },
   "id": "29fc1eadc5422bb1",
   "execution_count": 90
  },
  {
   "cell_type": "code",
   "outputs": [
    {
     "data": {
      "text/plain": "            id          brand                    model  model_year  milage  \\\n3286      3286          smart              ForTwo Pure        2008  156875   \n6794      6794      Chevrolet  Corvette Stingray w/2LT        2023   10900   \n8879      8879           Audi   Q5 S line Premium Plus        2016   35315   \n8908      8908            BMW                    M3 CS        2022   13777   \n9522      9522            Kia                 EV6 Wind        2022    4514   \n...        ...            ...                      ...         ...     ...   \n308824  308824          Tesla              Model S 75D        2017   51808   \n310616  310616  Mercedes-Benz     C-Class C 300 4MATIC        2018   64300   \n312225  312225        Porsche           718 Cayman GT4        2021   23600   \n312319  312319           Ford   F-150 Lightning LARIAT        2020   18385   \n312982  312982           Audi          S5 3.0T Premium        2023     654   \n\n       fuel_type                                             engine  \\\n3286         NaN        70.0HP 1.0L 3 Cylinder Engine Gasoline Fuel   \n6794         NaN       490.0HP 6.2L 8 Cylinder Engine Gasoline Fuel   \n8879         NaN                                     2.0 Liter TFSI   \n8908         NaN  453.0HP 3.0L Straight 6 Cylinder Engine Gasoli...   \n9522         NaN                         1.6L I4 16V GDI DOHC Turbo   \n...          ...                                                ...   \n308824       NaN                               5.0L V8 32V PDI DOHC   \n310616       NaN       261.0HP 2.0L 4 Cylinder Engine Gasoline Fuel   \n312225       NaN  414.0HP 4.0L Flat 6 Cylinder Engine Gasoline Fuel   \n312319       NaN                               5.0L V8 32V PDI DOHC   \n312982       NaN      349.0HP 3.0L V6 Cylinder Engine Gasoline Fuel   \n\n             transmission                ext_col      int_col  \\\n3286          2-Speed A/T                  Black         Gray   \n6794          8-Speed A/T                   Blue        Brown   \n8879            Automatic           Daytona Gray        Black   \n8908            Automatic                   Gray        Black   \n9522            Automatic  Pacific Blue Metallic  Satin Black   \n...                   ...                    ...          ...   \n308824  1-Speed Automatic                  Black        Black   \n310616                A/T                  Black            –   \n312225        6-Speed M/T                    Red        Black   \n312319  1-Speed Automatic           Caspian Blue         Gray   \n312982        1-Speed A/T                   Gray        Black   \n\n                                      accident clean_title  \n3286    At least 1 accident or damage reported         Yes  \n6794                             None reported         Yes  \n8879    At least 1 accident or damage reported         NaN  \n8908                             None reported         Yes  \n9522                                       NaN         NaN  \n...                                        ...         ...  \n308824                           None reported         NaN  \n310616                           None reported         Yes  \n312225                           None reported         Yes  \n312319                                     NaN         NaN  \n312982                           None reported         Yes  \n\n[162 rows x 12 columns]",
      "text/html": "<div>\n<style scoped>\n    .dataframe tbody tr th:only-of-type {\n        vertical-align: middle;\n    }\n\n    .dataframe tbody tr th {\n        vertical-align: top;\n    }\n\n    .dataframe thead th {\n        text-align: right;\n    }\n</style>\n<table border=\"1\" class=\"dataframe\">\n  <thead>\n    <tr style=\"text-align: right;\">\n      <th></th>\n      <th>id</th>\n      <th>brand</th>\n      <th>model</th>\n      <th>model_year</th>\n      <th>milage</th>\n      <th>fuel_type</th>\n      <th>engine</th>\n      <th>transmission</th>\n      <th>ext_col</th>\n      <th>int_col</th>\n      <th>accident</th>\n      <th>clean_title</th>\n    </tr>\n  </thead>\n  <tbody>\n    <tr>\n      <th>3286</th>\n      <td>3286</td>\n      <td>smart</td>\n      <td>ForTwo Pure</td>\n      <td>2008</td>\n      <td>156875</td>\n      <td>NaN</td>\n      <td>70.0HP 1.0L 3 Cylinder Engine Gasoline Fuel</td>\n      <td>2-Speed A/T</td>\n      <td>Black</td>\n      <td>Gray</td>\n      <td>At least 1 accident or damage reported</td>\n      <td>Yes</td>\n    </tr>\n    <tr>\n      <th>6794</th>\n      <td>6794</td>\n      <td>Chevrolet</td>\n      <td>Corvette Stingray w/2LT</td>\n      <td>2023</td>\n      <td>10900</td>\n      <td>NaN</td>\n      <td>490.0HP 6.2L 8 Cylinder Engine Gasoline Fuel</td>\n      <td>8-Speed A/T</td>\n      <td>Blue</td>\n      <td>Brown</td>\n      <td>None reported</td>\n      <td>Yes</td>\n    </tr>\n    <tr>\n      <th>8879</th>\n      <td>8879</td>\n      <td>Audi</td>\n      <td>Q5 S line Premium Plus</td>\n      <td>2016</td>\n      <td>35315</td>\n      <td>NaN</td>\n      <td>2.0 Liter TFSI</td>\n      <td>Automatic</td>\n      <td>Daytona Gray</td>\n      <td>Black</td>\n      <td>At least 1 accident or damage reported</td>\n      <td>NaN</td>\n    </tr>\n    <tr>\n      <th>8908</th>\n      <td>8908</td>\n      <td>BMW</td>\n      <td>M3 CS</td>\n      <td>2022</td>\n      <td>13777</td>\n      <td>NaN</td>\n      <td>453.0HP 3.0L Straight 6 Cylinder Engine Gasoli...</td>\n      <td>Automatic</td>\n      <td>Gray</td>\n      <td>Black</td>\n      <td>None reported</td>\n      <td>Yes</td>\n    </tr>\n    <tr>\n      <th>9522</th>\n      <td>9522</td>\n      <td>Kia</td>\n      <td>EV6 Wind</td>\n      <td>2022</td>\n      <td>4514</td>\n      <td>NaN</td>\n      <td>1.6L I4 16V GDI DOHC Turbo</td>\n      <td>Automatic</td>\n      <td>Pacific Blue Metallic</td>\n      <td>Satin Black</td>\n      <td>NaN</td>\n      <td>NaN</td>\n    </tr>\n    <tr>\n      <th>...</th>\n      <td>...</td>\n      <td>...</td>\n      <td>...</td>\n      <td>...</td>\n      <td>...</td>\n      <td>...</td>\n      <td>...</td>\n      <td>...</td>\n      <td>...</td>\n      <td>...</td>\n      <td>...</td>\n      <td>...</td>\n    </tr>\n    <tr>\n      <th>308824</th>\n      <td>308824</td>\n      <td>Tesla</td>\n      <td>Model S 75D</td>\n      <td>2017</td>\n      <td>51808</td>\n      <td>NaN</td>\n      <td>5.0L V8 32V PDI DOHC</td>\n      <td>1-Speed Automatic</td>\n      <td>Black</td>\n      <td>Black</td>\n      <td>None reported</td>\n      <td>NaN</td>\n    </tr>\n    <tr>\n      <th>310616</th>\n      <td>310616</td>\n      <td>Mercedes-Benz</td>\n      <td>C-Class C 300 4MATIC</td>\n      <td>2018</td>\n      <td>64300</td>\n      <td>NaN</td>\n      <td>261.0HP 2.0L 4 Cylinder Engine Gasoline Fuel</td>\n      <td>A/T</td>\n      <td>Black</td>\n      <td>–</td>\n      <td>None reported</td>\n      <td>Yes</td>\n    </tr>\n    <tr>\n      <th>312225</th>\n      <td>312225</td>\n      <td>Porsche</td>\n      <td>718 Cayman GT4</td>\n      <td>2021</td>\n      <td>23600</td>\n      <td>NaN</td>\n      <td>414.0HP 4.0L Flat 6 Cylinder Engine Gasoline Fuel</td>\n      <td>6-Speed M/T</td>\n      <td>Red</td>\n      <td>Black</td>\n      <td>None reported</td>\n      <td>Yes</td>\n    </tr>\n    <tr>\n      <th>312319</th>\n      <td>312319</td>\n      <td>Ford</td>\n      <td>F-150 Lightning LARIAT</td>\n      <td>2020</td>\n      <td>18385</td>\n      <td>NaN</td>\n      <td>5.0L V8 32V PDI DOHC</td>\n      <td>1-Speed Automatic</td>\n      <td>Caspian Blue</td>\n      <td>Gray</td>\n      <td>NaN</td>\n      <td>NaN</td>\n    </tr>\n    <tr>\n      <th>312982</th>\n      <td>312982</td>\n      <td>Audi</td>\n      <td>S5 3.0T Premium</td>\n      <td>2023</td>\n      <td>654</td>\n      <td>NaN</td>\n      <td>349.0HP 3.0L V6 Cylinder Engine Gasoline Fuel</td>\n      <td>1-Speed A/T</td>\n      <td>Gray</td>\n      <td>Black</td>\n      <td>None reported</td>\n      <td>Yes</td>\n    </tr>\n  </tbody>\n</table>\n<p>162 rows × 12 columns</p>\n</div>"
     },
     "execution_count": 91,
     "metadata": {},
     "output_type": "execute_result"
    }
   ],
   "source": [
    "## Checking if all vehicles are electric\n",
    "\n",
    "is_na_fuel_type[~is_na_fuel_type['engine'].str.contains(\"electric|Dual Motor|battery|kw\" , case = False)]\n"
   ],
   "metadata": {
    "collapsed": false,
    "ExecuteTime": {
     "end_time": "2024-09-16T20:55:49.510112900Z",
     "start_time": "2024-09-16T20:55:49.124378200Z"
    }
   },
   "id": "df025326e5fb33c2",
   "execution_count": 91
  },
  {
   "cell_type": "markdown",
   "source": [
    "We could add a column to confirm whether a car is electric or not. It appears that some vehicles have been modded e.g. There is a Tesla with a 5 liter engine. However, it is difficult to ascertain if all cars that fall under this category has been modded. For example the Acura MDX 3.5L is not electric. Additionally, there are only 162 rows of these vehicles that do not fit in the electric category or fuel category without further cleaning."
   ],
   "metadata": {
    "collapsed": false
   },
   "id": "e1c67055661f1b7b"
  },
  {
   "cell_type": "code",
   "outputs": [],
   "source": [
    "electric_cars_list  = \"electric|Dual Motor|battery|kw\"\n",
    "\n",
    "combined_data_set.loc[:,\"electric\"] = np.where(combined_data_set[\"engine\"].str.contains(electric_cars_list,case = False, na= False),1,0)"
   ],
   "metadata": {
    "collapsed": false,
    "ExecuteTime": {
     "end_time": "2024-09-16T20:55:51.886212Z",
     "start_time": "2024-09-16T20:55:49.219806800Z"
    }
   },
   "id": "72f9089efae4b99d",
   "execution_count": 92
  },
  {
   "cell_type": "code",
   "outputs": [
    {
     "data": {
      "text/plain": "array(['None reported', 'At least 1 accident or damage reported', nan],\n      dtype=object)"
     },
     "execution_count": 93,
     "metadata": {},
     "output_type": "execute_result"
    }
   ],
   "source": [
    "##Checking the accident status\n",
    "\n",
    "combined_data_set.accident.unique()\n",
    "\n"
   ],
   "metadata": {
    "collapsed": false,
    "ExecuteTime": {
     "end_time": "2024-09-16T20:55:52.031084200Z",
     "start_time": "2024-09-16T20:55:51.894193300Z"
    }
   },
   "id": "880bb24112d1ec8f",
   "execution_count": 93
  },
  {
   "cell_type": "code",
   "outputs": [
    {
     "data": {
      "text/plain": "      id          brand                 model  model_year  milage fuel_type  \\\n87    87            RAM         2500 Big Horn        2012   95400    Diesel   \n134  134           Jeep       Gladiator Sport        2021   61341  Gasoline   \n164  164          Acura  RDX w/A-Spec Package        2023   39517  Gasoline   \n333  333  Mercedes-Benz      SLK-Class SLK320        2001  170000  Gasoline   \n361  361            RAM              2500 SLT        2016   69600  Gasoline   \n\n                                                engine       transmission  \\\n87   350.0HP 6.7L Straight 6 Cylinder Engine Diesel...        6-Speed A/T   \n134                              3.6L V6 24V MPFI DOHC  8-Speed Automatic   \n164                               2.0 Liter DOHC Turbo          Automatic   \n333      215.0HP 3.2L V6 Cylinder Engine Gasoline Fuel        5-Speed A/T   \n361       410.0HP 6.4L 8 Cylinder Engine Gasoline Fuel        6-Speed A/T   \n\n                       ext_col int_col accident clean_title  electric  \n87                       Black   Black      NaN         NaN         0  \n134  Firecracker Red Clearcoat   Black      NaN         NaN         0  \n164                       Gray   Black      NaN         NaN         0  \n333                      Black   Beige      NaN         NaN         0  \n361                       Blue    Gray      NaN         NaN         0  ",
      "text/html": "<div>\n<style scoped>\n    .dataframe tbody tr th:only-of-type {\n        vertical-align: middle;\n    }\n\n    .dataframe tbody tr th {\n        vertical-align: top;\n    }\n\n    .dataframe thead th {\n        text-align: right;\n    }\n</style>\n<table border=\"1\" class=\"dataframe\">\n  <thead>\n    <tr style=\"text-align: right;\">\n      <th></th>\n      <th>id</th>\n      <th>brand</th>\n      <th>model</th>\n      <th>model_year</th>\n      <th>milage</th>\n      <th>fuel_type</th>\n      <th>engine</th>\n      <th>transmission</th>\n      <th>ext_col</th>\n      <th>int_col</th>\n      <th>accident</th>\n      <th>clean_title</th>\n      <th>electric</th>\n    </tr>\n  </thead>\n  <tbody>\n    <tr>\n      <th>87</th>\n      <td>87</td>\n      <td>RAM</td>\n      <td>2500 Big Horn</td>\n      <td>2012</td>\n      <td>95400</td>\n      <td>Diesel</td>\n      <td>350.0HP 6.7L Straight 6 Cylinder Engine Diesel...</td>\n      <td>6-Speed A/T</td>\n      <td>Black</td>\n      <td>Black</td>\n      <td>NaN</td>\n      <td>NaN</td>\n      <td>0</td>\n    </tr>\n    <tr>\n      <th>134</th>\n      <td>134</td>\n      <td>Jeep</td>\n      <td>Gladiator Sport</td>\n      <td>2021</td>\n      <td>61341</td>\n      <td>Gasoline</td>\n      <td>3.6L V6 24V MPFI DOHC</td>\n      <td>8-Speed Automatic</td>\n      <td>Firecracker Red Clearcoat</td>\n      <td>Black</td>\n      <td>NaN</td>\n      <td>NaN</td>\n      <td>0</td>\n    </tr>\n    <tr>\n      <th>164</th>\n      <td>164</td>\n      <td>Acura</td>\n      <td>RDX w/A-Spec Package</td>\n      <td>2023</td>\n      <td>39517</td>\n      <td>Gasoline</td>\n      <td>2.0 Liter DOHC Turbo</td>\n      <td>Automatic</td>\n      <td>Gray</td>\n      <td>Black</td>\n      <td>NaN</td>\n      <td>NaN</td>\n      <td>0</td>\n    </tr>\n    <tr>\n      <th>333</th>\n      <td>333</td>\n      <td>Mercedes-Benz</td>\n      <td>SLK-Class SLK320</td>\n      <td>2001</td>\n      <td>170000</td>\n      <td>Gasoline</td>\n      <td>215.0HP 3.2L V6 Cylinder Engine Gasoline Fuel</td>\n      <td>5-Speed A/T</td>\n      <td>Black</td>\n      <td>Beige</td>\n      <td>NaN</td>\n      <td>NaN</td>\n      <td>0</td>\n    </tr>\n    <tr>\n      <th>361</th>\n      <td>361</td>\n      <td>RAM</td>\n      <td>2500 SLT</td>\n      <td>2016</td>\n      <td>69600</td>\n      <td>Gasoline</td>\n      <td>410.0HP 6.4L 8 Cylinder Engine Gasoline Fuel</td>\n      <td>6-Speed A/T</td>\n      <td>Blue</td>\n      <td>Gray</td>\n      <td>NaN</td>\n      <td>NaN</td>\n      <td>0</td>\n    </tr>\n  </tbody>\n</table>\n</div>"
     },
     "execution_count": 94,
     "metadata": {},
     "output_type": "execute_result"
    }
   ],
   "source": [
    "combined_data_set.loc[combined_data_set[\"accident\"].isna()].head()"
   ],
   "metadata": {
    "collapsed": false,
    "ExecuteTime": {
     "end_time": "2024-09-16T20:55:52.091137600Z",
     "start_time": "2024-09-16T20:55:52.019259700Z"
    }
   },
   "id": "368781a13873500d",
   "execution_count": 94
  },
  {
   "cell_type": "code",
   "outputs": [
    {
     "data": {
      "text/plain": "            id  brand                  model  model_year  milage fuel_type  \\\n313559  313559   Jeep     Gladiator Overland        2020   49814  Gasoline   \n313883  313883    BMW           X6 xDrive50i        2019   57918  Gasoline   \n313928  313928   Ford               F-250 XL        2022   38012  Gasoline   \n313957  313957   Audi       S5 3.0T Prestige        2019   67015  Gasoline   \n314025  314025  Dodge  Ram 3500 Quad Cab DRW        2006  110500    Diesel   \n\n                                                   engine       transmission  \\\n313559                              3.6L V6 24V MPFI DOHC  8-Speed Automatic   \n313883       445.0HP 4.4L 8 Cylinder Engine Gasoline Fuel        8-Speed A/T   \n313928                               5.7L V8 16V MPFI OHV          Automatic   \n313957                                               3.0L  1-Speed Automatic   \n314025  400.0HP 6.7L Straight 6 Cylinder Engine Diesel...        6-Speed A/T   \n\n                          ext_col int_col accident clean_title  electric  \n313559  Firecracker Red Clearcoat   Black      NaN         NaN         0  \n313883                      White   Beige      NaN         NaN         0  \n313928    Delmonico Red Pearlcoat   Black      NaN         NaN         0  \n313957  Daytona Gray Pearl Effect   Black      NaN         NaN         0  \n314025                        Red    Gray      NaN         NaN         0  ",
      "text/html": "<div>\n<style scoped>\n    .dataframe tbody tr th:only-of-type {\n        vertical-align: middle;\n    }\n\n    .dataframe tbody tr th {\n        vertical-align: top;\n    }\n\n    .dataframe thead th {\n        text-align: right;\n    }\n</style>\n<table border=\"1\" class=\"dataframe\">\n  <thead>\n    <tr style=\"text-align: right;\">\n      <th></th>\n      <th>id</th>\n      <th>brand</th>\n      <th>model</th>\n      <th>model_year</th>\n      <th>milage</th>\n      <th>fuel_type</th>\n      <th>engine</th>\n      <th>transmission</th>\n      <th>ext_col</th>\n      <th>int_col</th>\n      <th>accident</th>\n      <th>clean_title</th>\n      <th>electric</th>\n    </tr>\n  </thead>\n  <tbody>\n    <tr>\n      <th>313559</th>\n      <td>313559</td>\n      <td>Jeep</td>\n      <td>Gladiator Overland</td>\n      <td>2020</td>\n      <td>49814</td>\n      <td>Gasoline</td>\n      <td>3.6L V6 24V MPFI DOHC</td>\n      <td>8-Speed Automatic</td>\n      <td>Firecracker Red Clearcoat</td>\n      <td>Black</td>\n      <td>NaN</td>\n      <td>NaN</td>\n      <td>0</td>\n    </tr>\n    <tr>\n      <th>313883</th>\n      <td>313883</td>\n      <td>BMW</td>\n      <td>X6 xDrive50i</td>\n      <td>2019</td>\n      <td>57918</td>\n      <td>Gasoline</td>\n      <td>445.0HP 4.4L 8 Cylinder Engine Gasoline Fuel</td>\n      <td>8-Speed A/T</td>\n      <td>White</td>\n      <td>Beige</td>\n      <td>NaN</td>\n      <td>NaN</td>\n      <td>0</td>\n    </tr>\n    <tr>\n      <th>313928</th>\n      <td>313928</td>\n      <td>Ford</td>\n      <td>F-250 XL</td>\n      <td>2022</td>\n      <td>38012</td>\n      <td>Gasoline</td>\n      <td>5.7L V8 16V MPFI OHV</td>\n      <td>Automatic</td>\n      <td>Delmonico Red Pearlcoat</td>\n      <td>Black</td>\n      <td>NaN</td>\n      <td>NaN</td>\n      <td>0</td>\n    </tr>\n    <tr>\n      <th>313957</th>\n      <td>313957</td>\n      <td>Audi</td>\n      <td>S5 3.0T Prestige</td>\n      <td>2019</td>\n      <td>67015</td>\n      <td>Gasoline</td>\n      <td>3.0L</td>\n      <td>1-Speed Automatic</td>\n      <td>Daytona Gray Pearl Effect</td>\n      <td>Black</td>\n      <td>NaN</td>\n      <td>NaN</td>\n      <td>0</td>\n    </tr>\n    <tr>\n      <th>314025</th>\n      <td>314025</td>\n      <td>Dodge</td>\n      <td>Ram 3500 Quad Cab DRW</td>\n      <td>2006</td>\n      <td>110500</td>\n      <td>Diesel</td>\n      <td>400.0HP 6.7L Straight 6 Cylinder Engine Diesel...</td>\n      <td>6-Speed A/T</td>\n      <td>Red</td>\n      <td>Gray</td>\n      <td>NaN</td>\n      <td>NaN</td>\n      <td>0</td>\n    </tr>\n  </tbody>\n</table>\n</div>"
     },
     "execution_count": 95,
     "metadata": {},
     "output_type": "execute_result"
    }
   ],
   "source": [
    "combined_data_set.loc[combined_data_set[\"accident\"].isna()].tail()"
   ],
   "metadata": {
    "collapsed": false,
    "ExecuteTime": {
     "end_time": "2024-09-16T20:55:52.240952500Z",
     "start_time": "2024-09-16T20:55:52.086408800Z"
    }
   },
   "id": "3e00e91285c3abf4",
   "execution_count": 95
  },
  {
   "cell_type": "code",
   "outputs": [
    {
     "data": {
      "text/plain": "4062"
     },
     "execution_count": 96,
     "metadata": {},
     "output_type": "execute_result"
    }
   ],
   "source": [
    "len(combined_data_set.loc[combined_data_set[\"accident\"].isna()])"
   ],
   "metadata": {
    "collapsed": false,
    "ExecuteTime": {
     "end_time": "2024-09-16T20:55:52.381822900Z",
     "start_time": "2024-09-16T20:55:52.165347900Z"
    }
   },
   "id": "20076dc8a45d0889",
   "execution_count": 96
  },
  {
   "cell_type": "code",
   "outputs": [
    {
     "data": {
      "text/plain": "4039"
     },
     "execution_count": 97,
     "metadata": {},
     "output_type": "execute_result"
    }
   ],
   "source": [
    "len(combined_data_set.loc[combined_data_set[\"accident\"].isna() & combined_data_set[\"clean_title\"].isna()])\n"
   ],
   "metadata": {
    "collapsed": false,
    "ExecuteTime": {
     "end_time": "2024-09-16T20:55:52.384655300Z",
     "start_time": "2024-09-16T20:55:52.208445800Z"
    }
   },
   "id": "df62b7bada22f3fe",
   "execution_count": 97
  },
  {
   "cell_type": "markdown",
   "source": [
    "From our initial analysis, we can see that most cars missing the accident value also are missing the clean title value. This is because it might not be possible to check whether the vehicle has been involved in an accident using the VIN number. Since approximately 12% of the data is slightly significant, we could fill the NA values with unknown. Additionally, more information may be available upon further analysis"
   ],
   "metadata": {
    "collapsed": false
   },
   "id": "b39205732a7b03f9"
  },
  {
   "cell_type": "code",
   "outputs": [],
   "source": [
    "combined_data_set.loc[:,\"accident\"] = combined_data_set[\"accident\"].fillna(\"unknown\")\n",
    "combined_data_set.loc[:,\"clean_title\"] = combined_data_set[\"clean_title\"].fillna(\"unknown\")"
   ],
   "metadata": {
    "collapsed": false,
    "ExecuteTime": {
     "end_time": "2024-09-16T20:55:52.474694800Z",
     "start_time": "2024-09-16T20:55:52.270961300Z"
    }
   },
   "id": "57ce062245453328",
   "execution_count": 98
  },
  {
   "cell_type": "code",
   "outputs": [],
   "source": [
    "## Creating a feature for age\n",
    "max_year = dt.date(2021,1,1).year\n",
    "combined_data_set[\"model_year\"] = pd.to_datetime(combined_data_set[\"model_year\"], format = \"%Y\").dt.year\n",
    "combined_data_set[\"age\"] = max_year - combined_data_set.model_year\n"
   ],
   "metadata": {
    "collapsed": false,
    "ExecuteTime": {
     "end_time": "2024-09-16T20:55:52.688922200Z",
     "start_time": "2024-09-16T20:55:52.355260900Z"
    }
   },
   "id": "3a8858e2e41a7353",
   "execution_count": 99
  },
  {
   "cell_type": "code",
   "outputs": [
    {
     "data": {
      "text/plain": "Index(['id', 'brand', 'model', 'model_year', 'milage', 'fuel_type', 'engine',\n       'transmission', 'ext_col', 'int_col', 'accident', 'clean_title',\n       'electric', 'age'],\n      dtype='object')"
     },
     "execution_count": 100,
     "metadata": {},
     "output_type": "execute_result"
    }
   ],
   "source": [
    "combined_data_set.columns"
   ],
   "metadata": {
    "collapsed": false,
    "ExecuteTime": {
     "end_time": "2024-09-16T20:55:52.704792700Z",
     "start_time": "2024-09-16T20:55:52.480005200Z"
    }
   },
   "id": "3b9d0965b0119da5",
   "execution_count": 100
  },
  {
   "cell_type": "code",
   "outputs": [],
   "source": [
    "## Creating a feature of brand popularity\n",
    "\n",
    "brand_popularity = combined_data_set.brand.value_counts()\n",
    "brand_popularity_counts = combined_data_set[\"brand\"].map(brand_popularity)\n",
    "popularity_bins = [0,5000,10000,40000]\n",
    "popularity_labels = [\"low\", \"medium\", \"high\"]\n",
    "combined_data_set[\"brand_popularity\"]  = pd.cut(brand_popularity_counts, bins = popularity_bins, labels=popularity_labels, include_lowest=True)"
   ],
   "metadata": {
    "collapsed": false,
    "ExecuteTime": {
     "end_time": "2024-09-16T20:55:52.800991900Z",
     "start_time": "2024-09-16T20:55:52.490662Z"
    }
   },
   "id": "c34d8548272c9acb",
   "execution_count": 101
  },
  {
   "cell_type": "code",
   "outputs": [],
   "source": [
    "## Creating a feature for miles per year\n",
    "\n",
    "combined_data_set[\"miles_per_year\"] = combined_data_set.milage / combined_data_set.age\n"
   ],
   "metadata": {
    "collapsed": false,
    "ExecuteTime": {
     "end_time": "2024-09-16T20:55:52.847054700Z",
     "start_time": "2024-09-16T20:55:52.646479100Z"
    }
   },
   "id": "ec64683502ee4c85",
   "execution_count": 102
  },
  {
   "cell_type": "code",
   "outputs": [],
   "source": [
    "## Creating a feature for color popularity\n",
    "\n",
    "color_counts = combined_data_set['ext_col'].value_counts()\n",
    "color_bins = [0,2000,10000,90000]\n",
    "color_labels = [\"low\", \"medium\", \"high\"]\n",
    "color_popularity = combined_data_set.ext_col.map(color_counts)\n",
    "\n",
    "combined_data_set[\"color_popularity\"] = pd.cut(color_popularity,bins = color_bins,labels=color_labels,include_lowest=True)"
   ],
   "metadata": {
    "collapsed": false,
    "ExecuteTime": {
     "end_time": "2024-09-16T20:55:52.925312700Z",
     "start_time": "2024-09-16T20:55:52.677938600Z"
    }
   },
   "id": "ea119f5e49fd5eb5",
   "execution_count": 103
  },
  {
   "cell_type": "code",
   "outputs": [],
   "source": [
    "# Dropping the ID columns\n",
    "\n",
    "combined_data_set = combined_data_set.drop(\"id\", axis = 1)"
   ],
   "metadata": {
    "collapsed": false,
    "ExecuteTime": {
     "end_time": "2024-09-16T20:56:09.643605100Z",
     "start_time": "2024-09-16T20:56:09.577563800Z"
    }
   },
   "id": "ac04c1ee50b2b6a9",
   "execution_count": 104
  }
 ],
 "metadata": {
  "kernelspec": {
   "display_name": "Python 3",
   "language": "python",
   "name": "python3"
  },
  "language_info": {
   "codemirror_mode": {
    "name": "ipython",
    "version": 2
   },
   "file_extension": ".py",
   "mimetype": "text/x-python",
   "name": "python",
   "nbconvert_exporter": "python",
   "pygments_lexer": "ipython2",
   "version": "2.7.6"
  }
 },
 "nbformat": 4,
 "nbformat_minor": 5
}
